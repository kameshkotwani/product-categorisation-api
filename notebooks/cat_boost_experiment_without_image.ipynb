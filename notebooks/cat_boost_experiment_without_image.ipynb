{
 "cells": [
  {
   "cell_type": "code",
   "execution_count": 1,
   "id": "bc09ae7e",
   "metadata": {},
   "outputs": [],
   "source": [
    "# train_test_split\n",
    "from sklearn.model_selection import train_test_split\n",
    "import pandas as pd\n",
    "import matplotlib.pyplot as plt\n",
    "import catboost"
   ]
  },
  {
   "cell_type": "code",
   "execution_count": 2,
   "id": "a4790b40",
   "metadata": {},
   "outputs": [],
   "source": [
    "# not using image data for now\n",
    "# there are total of 1451 rows in dataset, I have removed 49 rows for which image was not downloadable\n",
    "df = pd.read_csv('../data/processed/cleaned_results.csv')\n",
    "X = df[['name','brandName']]\n",
    "Y = df['categoryName']\n",
    "\n",
    "# Cannot use Statrify here since there are categories with only 1 value, so it's not possible to split them\n",
    "X_train,X_test, y_train,y_test = train_test_split(X, Y, test_size=0.2, random_state=42)"
   ]
  },
  {
   "cell_type": "code",
   "execution_count": 3,
   "id": "7e8b5a77",
   "metadata": {},
   "outputs": [
    {
     "data": {
      "application/vnd.microsoft.datawrangler.viewer.v0+json": {
       "columns": [
        {
         "name": "index",
         "rawType": "int64",
         "type": "integer"
        },
        {
         "name": "name",
         "rawType": "object",
         "type": "string"
        },
        {
         "name": "brandName",
         "rawType": "object",
         "type": "string"
        }
       ],
       "conversionMethod": "pd.DataFrame",
       "ref": "dd82ded4-e1d9-4861-860f-ff2f132bd89c",
       "rows": [
        [
         "1287",
         "Serge Lutens La Fille De Berlin Eau De Parfum 50ml",
         "Serge Lutens"
        ],
        [
         "1035",
         "Fanola Oro Puro Therapy Color Keratin 100ml - Silver",
         "Fanola"
        ],
        [
         "416",
         "Virgin Island Water by Creed Eau De Parfum 50ml",
         "Creed"
        ],
        [
         "1166",
         "Redken Color Extend Magnetics Conditioner for Colored Hair 300ml",
         "Redken"
        ],
        [
         "86",
         "L'OCCITANE Cade Energizing Fluid 50ml Fresh Face Fluid",
         "L'Occitane"
        ],
        [
         "1377",
         "Dermalogica Oil To Foam Total Cleanser for Face 8.4 fl oz",
         "Dermalogica"
        ],
        [
         "265",
         "Wella Professionals Color Motion Shampoo 250ml",
         "Wella"
        ],
        [
         "494",
         "Benefit The Porefessional Lite Ultra-lightweight Face Primer Light Pink FM294 0.75oz",
         "BeneFit"
        ],
        [
         "1436",
         "Christian Dior Ladies Dior Addict Lip Glow Reviving Lip Balm 004",
         "Dior"
        ],
        [
         "365",
         "Goldwell Trophic Can 8NN Light Blonde Extra 250ml",
         "Goldwell"
        ],
        [
         "1092",
         "Nivea MicellAir Skin Breathe Makeup Remover Wipes 25 Count",
         "Nivea"
        ],
        [
         "613",
         "Klorane Polysianes Sublime Spf30 Sun Cream Gel 200ml",
         "Eucerin"
        ],
        [
         "1110",
         "Lancôme Teint Idole Ultra Wear Stick 9g Foundation",
         "Lancôme"
        ],
        [
         "221",
         "Police To Be Sweet Girl 125ml EDT Spray",
         "Police"
        ],
        [
         "113",
         "Shiseido Revitalessence Skin Glow Foundation SPF 30 Opal 30ml",
         "Shiseido"
        ],
        [
         "543",
         "Al Haramain Portfolio Floral Sculpture 75ml",
         "Al Haramain"
        ],
        [
         "554",
         "Wella Professionals Illumina Colour 10/1 Light Blonde Ash 60ml",
         "Wella"
        ],
        [
         "174",
         "OPI Nature Strong Vegan Nail Polish Shore is Something! 14ml",
         "OPI"
        ],
        [
         "1389",
         "La Roche-Posay Effaclar Micro Peeling 400ml Cleansing Gel",
         "La Roche-Posay"
        ],
        [
         "324",
         "Burberry Touch For Men  Eau de Toilette 30ml",
         "Burberry"
        ],
        [
         "1137",
         "Pupa Milano Multiplay Eye Pencil No.8 Basic Brown",
         "Pupa Milano"
        ],
        [
         "1391",
         "Eucerin Dermatoclean Micellar Solution 3 in 1 400ml",
         "Eucerin"
        ],
        [
         "926",
         "Goldwell Elumenated Naturals 6NN@CV 60ml",
         "Goldwell"
        ],
        [
         "285",
         "Jo Malone Pomegranate Noir Cologne 100ml",
         "Jo Malone London"
        ],
        [
         "817",
         "Dermalogica Daily Glycolic Cleanser 295ml",
         "Dermalogica"
        ],
        [
         "1192",
         "La Nuit De L'homme Yves Saint Laurent Eau de Toilette Spray 3.3 oz & All Over Shower Gel 1.6",
         "Yves Saint Laurent"
        ],
        [
         "1157",
         "Caudalie Vinosun High Protection Cream SPF30 50ml Invisible Anti-Wrinkle",
         "Caudalie"
        ],
        [
         "31",
         "Valentino Voce Viva Femme Woman Eau de Parfum 100ml",
         "Valentino"
        ],
        [
         "620",
         "Goldwell Colorance Gloss Tones 9CP 60ml",
         "Goldwell"
        ],
        [
         "210",
         "L'Oréal Professionnel Serioxyl Advanced Density Activator Hair Growth Serum 90ml",
         "L'Oréal Professionnel"
        ],
        [
         "949",
         "Amber And Apricot by Swiss Arabian for Women 3.4 oz EDP Spray",
         "Swiss Arabian"
        ],
        [
         "398",
         "Tabac Original After Shave Lotion 50ml",
         "Tabac"
        ],
        [
         "762",
         "La Roche-Posay Anthelios UVmune 400 Invisible Fluid SPF50+ 50ml",
         "La Roche-Posay"
        ],
        [
         "374",
         "L'Oreal Paris Waterproof Eye Makeup 125ml",
         "L'Oréal Paris"
        ],
        [
         "332",
         "Lattafa Eau de Parfum So Candid Alhambra Perfume Dubai 100ml 3.4 Fl Oz",
         "Lattafa"
        ],
        [
         "188",
         "Sisley SisleYouth Anti-pollution",
         "Sisley"
        ],
        [
         "1097",
         "DIOR ROUGE DIOR SATIN 365 Lipstick",
         "Dior"
        ],
        [
         "1446",
         "L'Oréal Paris Preference 11.11 Venice Hair Color Very Light Cold Crystal Blonde 243g",
         "L'Oréal Paris"
        ],
        [
         "413",
         "L'Oréal Professionnel Serie Expert Inforcer Conditioner 200ml",
         "L'Oréal Professionnel"
        ],
        [
         "1438",
         "Paco Rabanne Phantom EDT Spray 100 ml Sets",
         "Paco Rabanne"
        ],
        [
         "83",
         "Roger & Gallet Fleur de Figuier Hand Cream 30ml",
         "Roger & Gallet"
        ],
        [
         "48",
         "Shiseido Synchro Skin Radiant Lifting Foundation SPF 30 Medium-to-Full Buildable Coverage 1.01 Fl Oz Topaz 460",
         "Shiseido"
        ],
        [
         "155",
         "YSL Touche Éclat Le Teint B60 Amber",
         "Yves Saint Laurent"
        ],
        [
         "358",
         "Dior The Diorshow Pump N Volume Mascara",
         "Dior"
        ],
        [
         "1103",
         "Pupa Vamp! Eyeshadow 400 Vanilla Cream Matte",
         "Pupa Milano"
        ],
        [
         "1445",
         "Christian Dior DIORSHOW 5 COULEURS Eye Makeup Palette 5 Eyeshadows 669 Soft Cashmere",
         "Dior"
        ],
        [
         "1024",
         "MAC Eye Shadow Suspiciously Sweet 1.5g",
         "Mac"
        ],
        [
         "1350",
         "Tom Ford Jasmin Rouge Eau De Parfum Spray 50ml",
         "Tom Ford"
        ],
        [
         "1188",
         "Hugo Boss Man Eau de Toilette 125ml",
         "Hugo Boss"
        ],
        [
         "1420",
         "MARVIS Ginger Mint Toothpaste with Gentle Spicy Ginger and Mint 25ml - Travel Size with Fluoride",
         "Marvis"
        ]
       ],
       "shape": {
        "columns": 2,
        "rows": 1160
       }
      },
      "text/html": [
       "<div>\n",
       "<style scoped>\n",
       "    .dataframe tbody tr th:only-of-type {\n",
       "        vertical-align: middle;\n",
       "    }\n",
       "\n",
       "    .dataframe tbody tr th {\n",
       "        vertical-align: top;\n",
       "    }\n",
       "\n",
       "    .dataframe thead th {\n",
       "        text-align: right;\n",
       "    }\n",
       "</style>\n",
       "<table border=\"1\" class=\"dataframe\">\n",
       "  <thead>\n",
       "    <tr style=\"text-align: right;\">\n",
       "      <th></th>\n",
       "      <th>name</th>\n",
       "      <th>brandName</th>\n",
       "    </tr>\n",
       "  </thead>\n",
       "  <tbody>\n",
       "    <tr>\n",
       "      <th>1287</th>\n",
       "      <td>Serge Lutens La Fille De Berlin Eau De Parfum ...</td>\n",
       "      <td>Serge Lutens</td>\n",
       "    </tr>\n",
       "    <tr>\n",
       "      <th>1035</th>\n",
       "      <td>Fanola Oro Puro Therapy Color Keratin 100ml - ...</td>\n",
       "      <td>Fanola</td>\n",
       "    </tr>\n",
       "    <tr>\n",
       "      <th>416</th>\n",
       "      <td>Virgin Island Water by Creed Eau De Parfum 50ml</td>\n",
       "      <td>Creed</td>\n",
       "    </tr>\n",
       "    <tr>\n",
       "      <th>1166</th>\n",
       "      <td>Redken Color Extend Magnetics Conditioner for ...</td>\n",
       "      <td>Redken</td>\n",
       "    </tr>\n",
       "    <tr>\n",
       "      <th>86</th>\n",
       "      <td>L'OCCITANE Cade Energizing Fluid 50ml Fresh Fa...</td>\n",
       "      <td>L'Occitane</td>\n",
       "    </tr>\n",
       "    <tr>\n",
       "      <th>...</th>\n",
       "      <td>...</td>\n",
       "      <td>...</td>\n",
       "    </tr>\n",
       "    <tr>\n",
       "      <th>1095</th>\n",
       "      <td>DIOR DIORSKIN FOREVER SKIN Concealer 3N</td>\n",
       "      <td>Dior</td>\n",
       "    </tr>\n",
       "    <tr>\n",
       "      <th>1130</th>\n",
       "      <td>Stabilizing Repair Cream</td>\n",
       "      <td>Dermalogica</td>\n",
       "    </tr>\n",
       "    <tr>\n",
       "      <th>1294</th>\n",
       "      <td>Wella Koleston Perfect Me + Pure Naturals 10/0...</td>\n",
       "      <td>Wella</td>\n",
       "    </tr>\n",
       "    <tr>\n",
       "      <th>860</th>\n",
       "      <td>L'Occitane Immortelle Divine Eye Balm 0.50 oz</td>\n",
       "      <td>L'Occitane</td>\n",
       "    </tr>\n",
       "    <tr>\n",
       "      <th>1126</th>\n",
       "      <td>Nivea Cream Care Shower Gel 750ml</td>\n",
       "      <td>Nivea</td>\n",
       "    </tr>\n",
       "  </tbody>\n",
       "</table>\n",
       "<p>1160 rows × 2 columns</p>\n",
       "</div>"
      ],
      "text/plain": [
       "                                                   name     brandName\n",
       "1287  Serge Lutens La Fille De Berlin Eau De Parfum ...  Serge Lutens\n",
       "1035  Fanola Oro Puro Therapy Color Keratin 100ml - ...        Fanola\n",
       "416     Virgin Island Water by Creed Eau De Parfum 50ml         Creed\n",
       "1166  Redken Color Extend Magnetics Conditioner for ...        Redken\n",
       "86    L'OCCITANE Cade Energizing Fluid 50ml Fresh Fa...    L'Occitane\n",
       "...                                                 ...           ...\n",
       "1095            DIOR DIORSKIN FOREVER SKIN Concealer 3N          Dior\n",
       "1130                           Stabilizing Repair Cream   Dermalogica\n",
       "1294  Wella Koleston Perfect Me + Pure Naturals 10/0...         Wella\n",
       "860       L'Occitane Immortelle Divine Eye Balm 0.50 oz    L'Occitane\n",
       "1126                  Nivea Cream Care Shower Gel 750ml         Nivea\n",
       "\n",
       "[1160 rows x 2 columns]"
      ]
     },
     "execution_count": 3,
     "metadata": {},
     "output_type": "execute_result"
    }
   ],
   "source": [
    "X_train"
   ]
  },
  {
   "cell_type": "markdown",
   "id": "9138bd63",
   "metadata": {},
   "source": [
    "### no pre-processing"
   ]
  },
  {
   "cell_type": "code",
   "execution_count": 4,
   "id": "1326a973",
   "metadata": {},
   "outputs": [
    {
     "name": "stdout",
     "output_type": "stream",
     "text": [
      "Learning rate set to 0.066901\n",
      "0:\tlearn: 0.4491379\ttotal: 175ms\tremaining: 2m 54s\n",
      "10:\tlearn: 0.5025862\ttotal: 1.47s\tremaining: 2m 11s\n",
      "20:\tlearn: 0.5543103\ttotal: 2.81s\tremaining: 2m 10s\n",
      "30:\tlearn: 0.5801724\ttotal: 4.07s\tremaining: 2m 7s\n",
      "40:\tlearn: 0.6215517\ttotal: 5.38s\tremaining: 2m 5s\n",
      "50:\tlearn: 0.6387931\ttotal: 6.71s\tremaining: 2m 4s\n",
      "60:\tlearn: 0.6456897\ttotal: 8.04s\tremaining: 2m 3s\n",
      "70:\tlearn: 0.6482759\ttotal: 9.32s\tremaining: 2m 2s\n",
      "80:\tlearn: 0.6568966\ttotal: 10.6s\tremaining: 2m\n",
      "90:\tlearn: 0.6603448\ttotal: 12s\tremaining: 2m\n",
      "100:\tlearn: 0.6655172\ttotal: 13.4s\tremaining: 1m 59s\n",
      "110:\tlearn: 0.6706897\ttotal: 14.8s\tremaining: 1m 58s\n",
      "120:\tlearn: 0.6767241\ttotal: 16.1s\tremaining: 1m 57s\n",
      "130:\tlearn: 0.6870690\ttotal: 17.4s\tremaining: 1m 55s\n",
      "140:\tlearn: 0.6991379\ttotal: 18.9s\tremaining: 1m 55s\n",
      "150:\tlearn: 0.7060345\ttotal: 20.3s\tremaining: 1m 54s\n",
      "160:\tlearn: 0.7086207\ttotal: 21.6s\tremaining: 1m 52s\n",
      "170:\tlearn: 0.7163793\ttotal: 22.9s\tremaining: 1m 51s\n",
      "180:\tlearn: 0.7284483\ttotal: 24.4s\tremaining: 1m 50s\n",
      "190:\tlearn: 0.7379310\ttotal: 25.7s\tremaining: 1m 48s\n",
      "200:\tlearn: 0.7431034\ttotal: 27.1s\tremaining: 1m 47s\n",
      "210:\tlearn: 0.7525862\ttotal: 28.5s\tremaining: 1m 46s\n",
      "220:\tlearn: 0.7620690\ttotal: 30s\tremaining: 1m 45s\n",
      "230:\tlearn: 0.7629310\ttotal: 31.3s\tremaining: 1m 44s\n",
      "240:\tlearn: 0.7724138\ttotal: 32.7s\tremaining: 1m 43s\n",
      "250:\tlearn: 0.7810345\ttotal: 34.1s\tremaining: 1m 41s\n",
      "260:\tlearn: 0.7827586\ttotal: 35.5s\tremaining: 1m 40s\n",
      "270:\tlearn: 0.7870690\ttotal: 37s\tremaining: 1m 39s\n",
      "280:\tlearn: 0.7913793\ttotal: 38.4s\tremaining: 1m 38s\n",
      "290:\tlearn: 0.7991379\ttotal: 39.8s\tremaining: 1m 37s\n",
      "300:\tlearn: 0.8043103\ttotal: 41.3s\tremaining: 1m 35s\n",
      "310:\tlearn: 0.8103448\ttotal: 42.6s\tremaining: 1m 34s\n",
      "320:\tlearn: 0.8120690\ttotal: 44s\tremaining: 1m 32s\n",
      "330:\tlearn: 0.8172414\ttotal: 45.4s\tremaining: 1m 31s\n",
      "340:\tlearn: 0.8206897\ttotal: 46.9s\tremaining: 1m 30s\n",
      "350:\tlearn: 0.8267241\ttotal: 48.3s\tremaining: 1m 29s\n",
      "360:\tlearn: 0.8293103\ttotal: 49.7s\tremaining: 1m 27s\n",
      "370:\tlearn: 0.8327586\ttotal: 51.1s\tremaining: 1m 26s\n",
      "380:\tlearn: 0.8344828\ttotal: 52.5s\tremaining: 1m 25s\n",
      "390:\tlearn: 0.8396552\ttotal: 53.9s\tremaining: 1m 24s\n",
      "400:\tlearn: 0.8500000\ttotal: 55.4s\tremaining: 1m 22s\n",
      "410:\tlearn: 0.8534483\ttotal: 56.8s\tremaining: 1m 21s\n",
      "420:\tlearn: 0.8586207\ttotal: 58.3s\tremaining: 1m 20s\n",
      "430:\tlearn: 0.8646552\ttotal: 59.8s\tremaining: 1m 18s\n",
      "440:\tlearn: 0.8698276\ttotal: 1m 1s\tremaining: 1m 17s\n",
      "450:\tlearn: 0.8758621\ttotal: 1m 2s\tremaining: 1m 16s\n",
      "460:\tlearn: 0.8801724\ttotal: 1m 4s\tremaining: 1m 14s\n",
      "470:\tlearn: 0.8810345\ttotal: 1m 5s\tremaining: 1m 13s\n",
      "480:\tlearn: 0.8870690\ttotal: 1m 7s\tremaining: 1m 12s\n",
      "490:\tlearn: 0.8887931\ttotal: 1m 8s\tremaining: 1m 11s\n",
      "500:\tlearn: 0.8931034\ttotal: 1m 10s\tremaining: 1m 9s\n",
      "510:\tlearn: 0.8956897\ttotal: 1m 11s\tremaining: 1m 8s\n",
      "520:\tlearn: 0.9025862\ttotal: 1m 12s\tremaining: 1m 7s\n",
      "530:\tlearn: 0.9077586\ttotal: 1m 14s\tremaining: 1m 5s\n",
      "540:\tlearn: 0.9129310\ttotal: 1m 15s\tremaining: 1m 4s\n",
      "550:\tlearn: 0.9181034\ttotal: 1m 17s\tremaining: 1m 3s\n",
      "560:\tlearn: 0.9198276\ttotal: 1m 18s\tremaining: 1m 1s\n",
      "570:\tlearn: 0.9215517\ttotal: 1m 20s\tremaining: 1m\n",
      "580:\tlearn: 0.9215517\ttotal: 1m 21s\tremaining: 59.1s\n",
      "590:\tlearn: 0.9267241\ttotal: 1m 23s\tremaining: 57.7s\n",
      "600:\tlearn: 0.9293103\ttotal: 1m 24s\tremaining: 56.4s\n",
      "610:\tlearn: 0.9301724\ttotal: 1m 26s\tremaining: 55s\n",
      "620:\tlearn: 0.9310345\ttotal: 1m 27s\tremaining: 53.6s\n",
      "630:\tlearn: 0.9327586\ttotal: 1m 29s\tremaining: 52.2s\n",
      "640:\tlearn: 0.9353448\ttotal: 1m 30s\tremaining: 50.9s\n",
      "650:\tlearn: 0.9353448\ttotal: 1m 32s\tremaining: 49.5s\n",
      "660:\tlearn: 0.9405172\ttotal: 1m 33s\tremaining: 48.1s\n",
      "670:\tlearn: 0.9422414\ttotal: 1m 35s\tremaining: 46.8s\n",
      "680:\tlearn: 0.9448276\ttotal: 1m 36s\tremaining: 45.4s\n",
      "690:\tlearn: 0.9456897\ttotal: 1m 38s\tremaining: 44s\n",
      "700:\tlearn: 0.9474138\ttotal: 1m 39s\tremaining: 42.6s\n",
      "710:\tlearn: 0.9482759\ttotal: 1m 41s\tremaining: 41.2s\n",
      "720:\tlearn: 0.9491379\ttotal: 1m 42s\tremaining: 39.8s\n",
      "730:\tlearn: 0.9508621\ttotal: 1m 44s\tremaining: 38.4s\n",
      "740:\tlearn: 0.9517241\ttotal: 1m 45s\tremaining: 37s\n",
      "750:\tlearn: 0.9543103\ttotal: 1m 47s\tremaining: 35.6s\n",
      "760:\tlearn: 0.9543103\ttotal: 1m 48s\tremaining: 34.2s\n",
      "770:\tlearn: 0.9568966\ttotal: 1m 50s\tremaining: 32.8s\n",
      "780:\tlearn: 0.9577586\ttotal: 1m 52s\tremaining: 31.4s\n",
      "790:\tlearn: 0.9577586\ttotal: 1m 53s\tremaining: 30s\n",
      "800:\tlearn: 0.9586207\ttotal: 1m 54s\tremaining: 28.6s\n",
      "810:\tlearn: 0.9603448\ttotal: 1m 56s\tremaining: 27.1s\n",
      "820:\tlearn: 0.9629310\ttotal: 1m 58s\tremaining: 25.7s\n",
      "830:\tlearn: 0.9629310\ttotal: 1m 59s\tremaining: 24.3s\n",
      "840:\tlearn: 0.9637931\ttotal: 2m 1s\tremaining: 22.9s\n",
      "850:\tlearn: 0.9637931\ttotal: 2m 2s\tremaining: 21.5s\n",
      "860:\tlearn: 0.9637931\ttotal: 2m 4s\tremaining: 20s\n",
      "870:\tlearn: 0.9646552\ttotal: 2m 5s\tremaining: 18.6s\n",
      "880:\tlearn: 0.9655172\ttotal: 2m 7s\tremaining: 17.2s\n",
      "890:\tlearn: 0.9663793\ttotal: 2m 8s\tremaining: 15.7s\n",
      "900:\tlearn: 0.9672414\ttotal: 2m 10s\tremaining: 14.3s\n",
      "910:\tlearn: 0.9681034\ttotal: 2m 11s\tremaining: 12.9s\n",
      "920:\tlearn: 0.9689655\ttotal: 2m 13s\tremaining: 11.4s\n",
      "930:\tlearn: 0.9689655\ttotal: 2m 14s\tremaining: 9.99s\n",
      "940:\tlearn: 0.9698276\ttotal: 2m 16s\tremaining: 8.55s\n",
      "950:\tlearn: 0.9715517\ttotal: 2m 17s\tremaining: 7.1s\n",
      "960:\tlearn: 0.9706897\ttotal: 2m 19s\tremaining: 5.66s\n",
      "970:\tlearn: 0.9741379\ttotal: 2m 21s\tremaining: 4.21s\n",
      "980:\tlearn: 0.9767241\ttotal: 2m 22s\tremaining: 2.76s\n",
      "990:\tlearn: 0.9767241\ttotal: 2m 24s\tremaining: 1.31s\n",
      "999:\tlearn: 0.9775862\ttotal: 2m 25s\tremaining: 0us\n"
     ]
    },
    {
     "data": {
      "text/plain": [
       "0.738831615120275"
      ]
     },
     "execution_count": 4,
     "metadata": {},
     "output_type": "execute_result"
    }
   ],
   "source": [
    "# using Catboost for training\n",
    "import pandas as pd\n",
    "import numpy as np\n",
    "from catboost import CatBoostClassifier, Pool\n",
    "from sklearn.metrics import accuracy_score\n",
    "\n",
    "# Train pool for Catboost with text_features and cat_features\n",
    "train_pool = Pool(\n",
    "    data=X_train, \n",
    "    label=y_train, \n",
    "    cat_features=['brandName'],\n",
    "    text_features=['name']\n",
    ")\n",
    "\n",
    "# test pool for Catboost\n",
    "test_pool = Pool(\n",
    "    data=X_test, \n",
    "    label=y_test, \n",
    "    cat_features=['brandName'],\n",
    "    text_features=['name']\n",
    ")\n",
    "\n",
    "# Initialize the CatBoostClassifier for GPU training.\n",
    "model = CatBoostClassifier(\n",
    "    iterations=1000,           \n",
    "    task_type='GPU',           \n",
    "    devices='0',               \n",
    "    verbose=10,\n",
    "    random_state=42,\n",
    "    eval_metric='Accuracy',\n",
    "    early_stopping_rounds=50,\n",
    "    loss_function='MultiClass'\n",
    ")\n",
    "\n",
    "# Train the model using the training pool.\n",
    "# Here, we're also providing an eval_set (optional) and enabling early stopping.\n",
    "model.fit(train_pool, early_stopping_rounds=50)\n",
    "\n",
    "# Once the model is trained, you can manually calculate predictions on the test set.\n",
    "y_pred = model.predict(X_test)\n",
    "\n",
    "# Example: print a few predictions.\n",
    "accuracy_score(y_test, y_pred)"
   ]
  },
  {
   "cell_type": "code",
   "execution_count": 5,
   "id": "c4169037",
   "metadata": {},
   "outputs": [
    {
     "name": "stdout",
     "output_type": "stream",
     "text": [
      "                                precision    recall  f1-score   support\n",
      "\n",
      "                          Acne       0.00      0.00      0.00         1\n",
      "        Anti-Aging Facial Care       0.00      0.00      0.00         2\n",
      "               Anti-Aging Mask       0.00      0.00      0.00         1\n",
      "              Anti-Aging Serum       0.75      0.60      0.67         5\n",
      "                  Baby & Child       0.00      0.00      0.00         1\n",
      "                     Bleaching       0.00      0.00      0.00         2\n",
      "                   Body Butter       0.00      0.00      0.00         1\n",
      "                   Body Lotion       0.50      0.20      0.29         5\n",
      "           Body Sun Protection       0.00      0.00      0.00         0\n",
      "               Cleansing Cream       0.00      0.00      0.00         3\n",
      "                 Cleansing Gel       0.00      0.00      0.00         0\n",
      "                   Color Rinse       0.00      0.00      0.00         1\n",
      "                     Concealer       0.50      1.00      0.67         1\n",
      "             Concealer Brushes       0.00      0.00      0.00         1\n",
      "                   Conditioner       0.45      1.00      0.62         5\n",
      "                    Contouring       0.00      0.00      0.00         1\n",
      "                     Day Cream       0.00      0.00      0.00         1\n",
      "   Deodorant & Anti-Perspirant       1.00      1.00      1.00         5\n",
      "                   Dry Shampoo       0.00      0.00      0.00         2\n",
      "                Eau De Cologne       0.00      0.00      0.00         2\n",
      "                 Eau De Parfum       0.89      1.00      0.94        57\n",
      "               Eau De Toilette       0.93      0.78      0.85        18\n",
      "                     Eye Cream       0.00      0.00      0.00         1\n",
      "                    Eye Pencil       1.00      1.00      1.00         1\n",
      "            Eye Sets & Pallets       0.67      1.00      0.80         2\n",
      "                Eyebrow Pencil       1.00      0.50      0.67         2\n",
      "                      Eyeliner       1.00      1.00      1.00         3\n",
      "                     Eyeshadow       1.00      0.89      0.94         9\n",
      "                    Face Cream       0.33      0.67      0.44         9\n",
      "           Face Sun Protection       0.33      1.00      0.50         1\n",
      "              Facial Care Sets       0.00      0.00      0.00         3\n",
      "                    Facial Oil       0.00      0.00      0.00         1\n",
      "        Facial Scrub & Peeling       0.00      0.00      0.00         1\n",
      "                  Facial Spray       0.00      0.00      0.00         2\n",
      "                    Foundation       0.71      0.94      0.81        16\n",
      "                     Fragrance       0.00      0.00      0.00         1\n",
      "                Fragrance Sets       0.78      0.78      0.78         9\n",
      "                    Glow Serum       0.00      0.00      0.00         1\n",
      "                      Hair Dye       0.79      0.90      0.84        29\n",
      "                    Hair Masks       0.70      0.88      0.78         8\n",
      "                    Hair Tonic       0.00      0.00      0.00         1\n",
      "                     Hairspray       0.00      0.00      0.00         2\n",
      "                    Hand Cream       0.67      1.00      0.80         2\n",
      "                   Highlighter       0.00      0.00      0.00         1\n",
      "               Hydrating Serum       0.00      0.00      0.00         1\n",
      "                      Lip Balm       1.00      0.25      0.40         4\n",
      "                     Lip Gloss       0.43      0.60      0.50         5\n",
      "                     Lip Liner       0.75      0.60      0.67         5\n",
      "                       Lip Oil       0.00      0.00      0.00         2\n",
      "                   Lip Plumper       0.00      0.00      0.00         1\n",
      "                      Lipstick       0.72      1.00      0.84        18\n",
      "                Makeup Mirrors       0.00      0.00      0.00         1\n",
      "                       Mascara       1.00      1.00      1.00         1\n",
      "                   Nail Polish       1.00      1.00      1.00        10\n",
      "               Neurodermatitis       0.00      0.00      0.00         1\n",
      "                   Night Cream       0.00      0.00      0.00         1\n",
      "                        Powder       0.00      0.00      0.00         1\n",
      "                       Shampoo       0.73      0.92      0.81        12\n",
      "                       Shaving       0.00      0.00      0.00         2\n",
      "                    Shower Gel       0.75      1.00      0.86         3\n",
      "                    Shower Oil       0.00      0.00      0.00         1\n",
      "                          Soap       0.00      0.00      0.00         0\n",
      "                Styling Creams       0.00      0.00      0.00         1\n",
      "                Styling Sprays       0.00      0.00      0.00         0\n",
      "Toothbrushes & Tongue Cleaners       0.00      0.00      0.00         1\n",
      "\n",
      "                      accuracy                           0.74       291\n",
      "                     macro avg       0.31      0.35      0.31       291\n",
      "                  weighted avg       0.67      0.74      0.69       291\n",
      "\n"
     ]
    },
    {
     "name": "stderr",
     "output_type": "stream",
     "text": [
      "/home/kamesh/interview-tests/qogita/.venv/lib/python3.11/site-packages/sklearn/metrics/_classification.py:1565: UndefinedMetricWarning: Precision is ill-defined and being set to 0.0 in labels with no predicted samples. Use `zero_division` parameter to control this behavior.\n",
      "  _warn_prf(average, modifier, f\"{metric.capitalize()} is\", len(result))\n",
      "/home/kamesh/interview-tests/qogita/.venv/lib/python3.11/site-packages/sklearn/metrics/_classification.py:1565: UndefinedMetricWarning: Recall is ill-defined and being set to 0.0 in labels with no true samples. Use `zero_division` parameter to control this behavior.\n",
      "  _warn_prf(average, modifier, f\"{metric.capitalize()} is\", len(result))\n",
      "/home/kamesh/interview-tests/qogita/.venv/lib/python3.11/site-packages/sklearn/metrics/_classification.py:1565: UndefinedMetricWarning: Precision is ill-defined and being set to 0.0 in labels with no predicted samples. Use `zero_division` parameter to control this behavior.\n",
      "  _warn_prf(average, modifier, f\"{metric.capitalize()} is\", len(result))\n",
      "/home/kamesh/interview-tests/qogita/.venv/lib/python3.11/site-packages/sklearn/metrics/_classification.py:1565: UndefinedMetricWarning: Recall is ill-defined and being set to 0.0 in labels with no true samples. Use `zero_division` parameter to control this behavior.\n",
      "  _warn_prf(average, modifier, f\"{metric.capitalize()} is\", len(result))\n",
      "/home/kamesh/interview-tests/qogita/.venv/lib/python3.11/site-packages/sklearn/metrics/_classification.py:1565: UndefinedMetricWarning: Precision is ill-defined and being set to 0.0 in labels with no predicted samples. Use `zero_division` parameter to control this behavior.\n",
      "  _warn_prf(average, modifier, f\"{metric.capitalize()} is\", len(result))\n",
      "/home/kamesh/interview-tests/qogita/.venv/lib/python3.11/site-packages/sklearn/metrics/_classification.py:1565: UndefinedMetricWarning: Recall is ill-defined and being set to 0.0 in labels with no true samples. Use `zero_division` parameter to control this behavior.\n",
      "  _warn_prf(average, modifier, f\"{metric.capitalize()} is\", len(result))\n"
     ]
    }
   ],
   "source": [
    "from sklearn.metrics import classification_report\n",
    "import matplotlib.pyplot as plt\n",
    "print(classification_report(y_test, y_pred))"
   ]
  },
  {
   "cell_type": "code",
   "execution_count": 6,
   "id": "74917ef7",
   "metadata": {},
   "outputs": [
    {
     "data": {
      "text/plain": [
       "0.738831615120275"
      ]
     },
     "execution_count": 6,
     "metadata": {},
     "output_type": "execute_result"
    }
   ],
   "source": [
    "from sklearn.metrics import accuracy_score\n",
    "accuracy_score(y_test,model.predict(X_test))"
   ]
  },
  {
   "cell_type": "code",
   "execution_count": 13,
   "id": "73ed3b9c",
   "metadata": {},
   "outputs": [
    {
     "data": {
      "text/plain": [
       "name         Wella Koleston Perfect Me+ Rich Naturals Hair ...\n",
       "brandName                                                Wella\n",
       "Name: 538, dtype: object"
      ]
     },
     "execution_count": 13,
     "metadata": {},
     "output_type": "execute_result"
    }
   ],
   "source": [
    "X_test.iloc[0]"
   ]
  },
  {
   "cell_type": "code",
   "execution_count": 25,
   "id": "a11864dc",
   "metadata": {},
   "outputs": [],
   "source": [
    "\n",
    "input_df = pd.DataFrame({\n",
    "    \"name\": \"Filorga Ncef-Revitalize Polyrevitalizing Firming Effect Cream 50ml\",\n",
    "    \"brandName\": \"Filorga\",\n",
    "    \n",
    "},index=[0])"
   ]
  },
  {
   "cell_type": "code",
   "execution_count": 26,
   "id": "ce109733",
   "metadata": {},
   "outputs": [
    {
     "data": {
      "application/vnd.microsoft.datawrangler.viewer.v0+json": {
       "columns": [
        {
         "name": "index",
         "rawType": "int64",
         "type": "integer"
        },
        {
         "name": "name",
         "rawType": "object",
         "type": "string"
        },
        {
         "name": "brandName",
         "rawType": "object",
         "type": "string"
        }
       ],
       "conversionMethod": "pd.DataFrame",
       "ref": "55d001c1-be77-4c06-b1a5-42aae8708054",
       "rows": [
        [
         "0",
         "Filorga Ncef-Revitalize Polyrevitalizing Firming Effect Cream 50ml",
         "Filorga"
        ]
       ],
       "shape": {
        "columns": 2,
        "rows": 1
       }
      },
      "text/html": [
       "<div>\n",
       "<style scoped>\n",
       "    .dataframe tbody tr th:only-of-type {\n",
       "        vertical-align: middle;\n",
       "    }\n",
       "\n",
       "    .dataframe tbody tr th {\n",
       "        vertical-align: top;\n",
       "    }\n",
       "\n",
       "    .dataframe thead th {\n",
       "        text-align: right;\n",
       "    }\n",
       "</style>\n",
       "<table border=\"1\" class=\"dataframe\">\n",
       "  <thead>\n",
       "    <tr style=\"text-align: right;\">\n",
       "      <th></th>\n",
       "      <th>name</th>\n",
       "      <th>brandName</th>\n",
       "    </tr>\n",
       "  </thead>\n",
       "  <tbody>\n",
       "    <tr>\n",
       "      <th>0</th>\n",
       "      <td>Filorga Ncef-Revitalize Polyrevitalizing Firmi...</td>\n",
       "      <td>Filorga</td>\n",
       "    </tr>\n",
       "  </tbody>\n",
       "</table>\n",
       "</div>"
      ],
      "text/plain": [
       "                                                name brandName\n",
       "0  Filorga Ncef-Revitalize Polyrevitalizing Firmi...   Filorga"
      ]
     },
     "execution_count": 26,
     "metadata": {},
     "output_type": "execute_result"
    }
   ],
   "source": [
    "input_df"
   ]
  },
  {
   "cell_type": "code",
   "execution_count": 28,
   "id": "bdb966e9",
   "metadata": {},
   "outputs": [
    {
     "data": {
      "text/plain": [
       "'Face Cream'"
      ]
     },
     "execution_count": 28,
     "metadata": {},
     "output_type": "execute_result"
    }
   ],
   "source": [
    "model.predict(input_df)[0][0]"
   ]
  },
  {
   "cell_type": "code",
   "execution_count": null,
   "id": "1543ed6e",
   "metadata": {},
   "outputs": [],
   "source": [
    "# model.save_model('catboost_model_without_image.cbm')"
   ]
  }
 ],
 "metadata": {
  "kernelspec": {
   "display_name": ".venv",
   "language": "python",
   "name": "python3"
  },
  "language_info": {
   "codemirror_mode": {
    "name": "ipython",
    "version": 3
   },
   "file_extension": ".py",
   "mimetype": "text/x-python",
   "name": "python",
   "nbconvert_exporter": "python",
   "pygments_lexer": "ipython3",
   "version": "3.11.11"
  }
 },
 "nbformat": 4,
 "nbformat_minor": 5
}
