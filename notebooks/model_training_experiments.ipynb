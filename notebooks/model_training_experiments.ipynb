{
 "cells": [
  {
   "cell_type": "code",
   "execution_count": 2,
   "id": "46c23e18",
   "metadata": {},
   "outputs": [],
   "source": [
    "# train_test_split\n",
    "from sklearn.model_selection import train_test_split\n",
    "import pandas as pd\n",
    "import matplotlib.pyplot as plt\n",
    "from scipy.sparse import hstack\n",
    "import numpy as np"
   ]
  },
  {
   "cell_type": "code",
   "execution_count": 3,
   "id": "ef2624a7",
   "metadata": {},
   "outputs": [],
   "source": [
    "\n",
    "df = pd.read_csv('../data/interim/products.csv')\n",
    "X = df[['name','brandName','imageUrl']]\n",
    "Y = df['categoryName']\n",
    "\n",
    "X_train,X_test, y_train,y_test = train_test_split(X, Y, test_size=0.2, random_state=42)"
   ]
  },
  {
   "cell_type": "code",
   "execution_count": null,
   "id": "4c4a835d",
   "metadata": {},
   "outputs": [
    {
     "data": {
      "text/plain": [
       "250"
      ]
     },
     "execution_count": 5,
     "metadata": {},
     "output_type": "execute_result"
    }
   ],
   "source": []
  },
  {
   "cell_type": "code",
   "execution_count": 57,
   "id": "bd1364d5",
   "metadata": {},
   "outputs": [
    {
     "data": {
      "application/vnd.microsoft.datawrangler.viewer.v0+json": {
       "columns": [
        {
         "name": "index",
         "rawType": "int64",
         "type": "integer"
        },
        {
         "name": "name",
         "rawType": "object",
         "type": "string"
        },
        {
         "name": "brandName",
         "rawType": "object",
         "type": "string"
        },
        {
         "name": "imageUrl",
         "rawType": "object",
         "type": "string"
        }
       ],
       "conversionMethod": "pd.DataFrame",
       "ref": "bfda4bac-cfc4-44a3-80c9-1c9fbefec1c3",
       "rows": [
        [
         "142",
         "Guerlain La Petite Robe Noire Eau De Parfum 75ml",
         "Guerlain",
         "https://static.prod.qogita.com/files/images/variants/ZHVgHvMurrQPiMTAWxWMcU.jpg"
        ],
        [
         "6",
         "Pupa Multiplay Triple Purpose Eye Pencil #04 1.2g/0.04oz",
         "Pupa Milano",
         "https://static.prod.qogita.com/files/images/variants/PFaaKmrAxNkYNrayY9EtQY.jpg"
        ],
        [
         "97",
         "Carolina Herrera Bad Boy Eau De Toilette Spray 150ml",
         "Carolina Herrera",
         "https://static.prod.qogita.com/files/images/variants/TwVzopnwVCadud4qca228c.jpg"
        ],
        [
         "60",
         "Maybelline Lash Sensational Full Fan Effect Mascara Black 9.5ml",
         "Maybelline New York",
         "https://static.prod.qogita.com/files/images/variants/d9TGnPwanA3mp844TVNCKC.jpg"
        ],
        [
         "112",
         "Acqua Di Parma Mediterranean Bergamot Of Calabria Eau de Toilette Spray 30ml",
         "Acqua di Parma",
         "https://static.prod.qogita.com/files/images/variants/USAdjcubwdHDXyxiLrXYLJ.jpg"
        ]
       ],
       "shape": {
        "columns": 3,
        "rows": 5
       }
      },
      "text/html": [
       "<div>\n",
       "<style scoped>\n",
       "    .dataframe tbody tr th:only-of-type {\n",
       "        vertical-align: middle;\n",
       "    }\n",
       "\n",
       "    .dataframe tbody tr th {\n",
       "        vertical-align: top;\n",
       "    }\n",
       "\n",
       "    .dataframe thead th {\n",
       "        text-align: right;\n",
       "    }\n",
       "</style>\n",
       "<table border=\"1\" class=\"dataframe\">\n",
       "  <thead>\n",
       "    <tr style=\"text-align: right;\">\n",
       "      <th></th>\n",
       "      <th>name</th>\n",
       "      <th>brandName</th>\n",
       "      <th>imageUrl</th>\n",
       "    </tr>\n",
       "  </thead>\n",
       "  <tbody>\n",
       "    <tr>\n",
       "      <th>142</th>\n",
       "      <td>Guerlain La Petite Robe Noire Eau De Parfum 75ml</td>\n",
       "      <td>Guerlain</td>\n",
       "      <td>https://static.prod.qogita.com/files/images/va...</td>\n",
       "    </tr>\n",
       "    <tr>\n",
       "      <th>6</th>\n",
       "      <td>Pupa Multiplay Triple Purpose Eye Pencil #04 1...</td>\n",
       "      <td>Pupa Milano</td>\n",
       "      <td>https://static.prod.qogita.com/files/images/va...</td>\n",
       "    </tr>\n",
       "    <tr>\n",
       "      <th>97</th>\n",
       "      <td>Carolina Herrera Bad Boy Eau De Toilette Spray...</td>\n",
       "      <td>Carolina Herrera</td>\n",
       "      <td>https://static.prod.qogita.com/files/images/va...</td>\n",
       "    </tr>\n",
       "    <tr>\n",
       "      <th>60</th>\n",
       "      <td>Maybelline Lash Sensational Full Fan Effect Ma...</td>\n",
       "      <td>Maybelline New York</td>\n",
       "      <td>https://static.prod.qogita.com/files/images/va...</td>\n",
       "    </tr>\n",
       "    <tr>\n",
       "      <th>112</th>\n",
       "      <td>Acqua Di Parma Mediterranean Bergamot Of Calab...</td>\n",
       "      <td>Acqua di Parma</td>\n",
       "      <td>https://static.prod.qogita.com/files/images/va...</td>\n",
       "    </tr>\n",
       "  </tbody>\n",
       "</table>\n",
       "</div>"
      ],
      "text/plain": [
       "                                                  name            brandName  \\\n",
       "142   Guerlain La Petite Robe Noire Eau De Parfum 75ml             Guerlain   \n",
       "6    Pupa Multiplay Triple Purpose Eye Pencil #04 1...          Pupa Milano   \n",
       "97   Carolina Herrera Bad Boy Eau De Toilette Spray...     Carolina Herrera   \n",
       "60   Maybelline Lash Sensational Full Fan Effect Ma...  Maybelline New York   \n",
       "112  Acqua Di Parma Mediterranean Bergamot Of Calab...       Acqua di Parma   \n",
       "\n",
       "                                              imageUrl  \n",
       "142  https://static.prod.qogita.com/files/images/va...  \n",
       "6    https://static.prod.qogita.com/files/images/va...  \n",
       "97   https://static.prod.qogita.com/files/images/va...  \n",
       "60   https://static.prod.qogita.com/files/images/va...  \n",
       "112  https://static.prod.qogita.com/files/images/va...  "
      ]
     },
     "execution_count": 57,
     "metadata": {},
     "output_type": "execute_result"
    }
   ],
   "source": [
    "X_test.head()"
   ]
  },
  {
   "cell_type": "code",
   "execution_count": 58,
   "id": "9b54eaa6",
   "metadata": {},
   "outputs": [],
   "source": [
    "# converting Y using LabelEncoder\n",
    "from sklearn.preprocessing import LabelEncoder\n",
    "le = LabelEncoder()\n",
    "\n",
    "y_train_transformed = le.fit_transform(y_train)\n"
   ]
  },
  {
   "cell_type": "code",
   "execution_count": 59,
   "id": "44a0923b",
   "metadata": {},
   "outputs": [
    {
     "name": "stderr",
     "output_type": "stream",
     "text": [
      "[nltk_data] Downloading package wordnet to /home/kamesh/nltk_data...\n",
      "[nltk_data]   Package wordnet is already up-to-date!\n",
      "[nltk_data] Downloading package stopwords to /home/kamesh/nltk_data...\n",
      "[nltk_data]   Package stopwords is already up-to-date!\n",
      "[nltk_data] Downloading package punkt to /home/kamesh/nltk_data...\n",
      "[nltk_data]   Package punkt is already up-to-date!\n",
      "[nltk_data] Downloading package punkt_tab to /home/kamesh/nltk_data...\n",
      "[nltk_data]   Package punkt_tab is already up-to-date!\n"
     ]
    },
    {
     "data": {
      "text/plain": [
       "True"
      ]
     },
     "execution_count": 59,
     "metadata": {},
     "output_type": "execute_result"
    }
   ],
   "source": [
    "# transforming X using TfidfVectorizer and preprocessing using nltk\n",
    "import nltk\n",
    "nltk.download('wordnet')\n",
    "nltk.download('stopwords')\n",
    "nltk.download('punkt')\n",
    "nltk.download('punkt_tab')"
   ]
  },
  {
   "cell_type": "code",
   "execution_count": 60,
   "id": "24d257c5",
   "metadata": {},
   "outputs": [],
   "source": [
    "# preprocessing function\n",
    "from nltk.tokenize import word_tokenize\n",
    "from nltk.corpus import stopwords\n",
    "from nltk.stem import WordNetLemmatizer\n",
    "import string\n",
    "\n",
    "stop_words = set(stopwords.words(\"english\"))\n",
    "lemmatizer = WordNetLemmatizer()\n",
    "\n",
    "def preprocess_nltk(text):\n",
    "    text = text.lower()\n",
    "    tokens = word_tokenize(text)\n",
    "    tokens = [t for t in tokens if t.isalpha()]  # remove punctuation/numbers\n",
    "    tokens = [t for t in tokens if t not in stop_words]\n",
    "    tokens = [lemmatizer.lemmatize(t) for t in tokens]\n",
    "    return \" \".join(tokens)"
   ]
  },
  {
   "cell_type": "code",
   "execution_count": 61,
   "id": "6339b9f3",
   "metadata": {},
   "outputs": [],
   "source": [
    "X_train['name'] = X_train['name'].apply(preprocess_nltk)"
   ]
  },
  {
   "cell_type": "code",
   "execution_count": 62,
   "id": "9be40177",
   "metadata": {},
   "outputs": [
    {
     "data": {
      "application/vnd.microsoft.datawrangler.viewer.v0+json": {
       "columns": [
        {
         "name": "index",
         "rawType": "int64",
         "type": "integer"
        },
        {
         "name": "name",
         "rawType": "object",
         "type": "string"
        },
        {
         "name": "brandName",
         "rawType": "object",
         "type": "string"
        },
        {
         "name": "imageUrl",
         "rawType": "object",
         "type": "string"
        }
       ],
       "conversionMethod": "pd.DataFrame",
       "ref": "821cf15f-d733-4823-a3ca-53cc9c3989c8",
       "rows": [
        [
         "132",
         "boucheron oud de carthage eau de parfum",
         "Boucheron",
         "https://static.prod.qogita.com/files/images/variants/SnT3gA8owcKzsy9eYNdcco.jpg"
        ],
        [
         "225",
         "afnan ornament pour homme eau de parfum men",
         "Afnan",
         "https://static.prod.qogita.com/files/images/variants/VGaBrQJnv6YxZxJqz4hcrN.jpg"
        ],
        [
         "238",
         "redken frizz dismiss instant deflate haircare serum",
         "Redken",
         "https://static.prod.qogita.com/files/images/variants/bfMUJsYZiPJPRMT2zuULW8.jpg"
        ],
        [
         "119",
         "tom ford black orchid eau de parfum woman",
         "Tom Ford",
         "https://static.prod.qogita.com/files/images/variants/dYJ2gxgfSCiH7aqRSJNRpE.jpg"
        ],
        [
         "136",
         "shiseido waso shot serum",
         "Shiseido",
         "https://static.prod.qogita.com/files/images/variants/DD6KoYobqAmmhQfxKNLJV7.jpg"
        ]
       ],
       "shape": {
        "columns": 3,
        "rows": 5
       }
      },
      "text/html": [
       "<div>\n",
       "<style scoped>\n",
       "    .dataframe tbody tr th:only-of-type {\n",
       "        vertical-align: middle;\n",
       "    }\n",
       "\n",
       "    .dataframe tbody tr th {\n",
       "        vertical-align: top;\n",
       "    }\n",
       "\n",
       "    .dataframe thead th {\n",
       "        text-align: right;\n",
       "    }\n",
       "</style>\n",
       "<table border=\"1\" class=\"dataframe\">\n",
       "  <thead>\n",
       "    <tr style=\"text-align: right;\">\n",
       "      <th></th>\n",
       "      <th>name</th>\n",
       "      <th>brandName</th>\n",
       "      <th>imageUrl</th>\n",
       "    </tr>\n",
       "  </thead>\n",
       "  <tbody>\n",
       "    <tr>\n",
       "      <th>132</th>\n",
       "      <td>boucheron oud de carthage eau de parfum</td>\n",
       "      <td>Boucheron</td>\n",
       "      <td>https://static.prod.qogita.com/files/images/va...</td>\n",
       "    </tr>\n",
       "    <tr>\n",
       "      <th>225</th>\n",
       "      <td>afnan ornament pour homme eau de parfum men</td>\n",
       "      <td>Afnan</td>\n",
       "      <td>https://static.prod.qogita.com/files/images/va...</td>\n",
       "    </tr>\n",
       "    <tr>\n",
       "      <th>238</th>\n",
       "      <td>redken frizz dismiss instant deflate haircare ...</td>\n",
       "      <td>Redken</td>\n",
       "      <td>https://static.prod.qogita.com/files/images/va...</td>\n",
       "    </tr>\n",
       "    <tr>\n",
       "      <th>119</th>\n",
       "      <td>tom ford black orchid eau de parfum woman</td>\n",
       "      <td>Tom Ford</td>\n",
       "      <td>https://static.prod.qogita.com/files/images/va...</td>\n",
       "    </tr>\n",
       "    <tr>\n",
       "      <th>136</th>\n",
       "      <td>shiseido waso shot serum</td>\n",
       "      <td>Shiseido</td>\n",
       "      <td>https://static.prod.qogita.com/files/images/va...</td>\n",
       "    </tr>\n",
       "  </tbody>\n",
       "</table>\n",
       "</div>"
      ],
      "text/plain": [
       "                                                  name  brandName  \\\n",
       "132            boucheron oud de carthage eau de parfum  Boucheron   \n",
       "225        afnan ornament pour homme eau de parfum men      Afnan   \n",
       "238  redken frizz dismiss instant deflate haircare ...     Redken   \n",
       "119          tom ford black orchid eau de parfum woman   Tom Ford   \n",
       "136                           shiseido waso shot serum   Shiseido   \n",
       "\n",
       "                                              imageUrl  \n",
       "132  https://static.prod.qogita.com/files/images/va...  \n",
       "225  https://static.prod.qogita.com/files/images/va...  \n",
       "238  https://static.prod.qogita.com/files/images/va...  \n",
       "119  https://static.prod.qogita.com/files/images/va...  \n",
       "136  https://static.prod.qogita.com/files/images/va...  "
      ]
     },
     "execution_count": 62,
     "metadata": {},
     "output_type": "execute_result"
    }
   ],
   "source": [
    "X_train.head()"
   ]
  },
  {
   "cell_type": "markdown",
   "id": "758df1e5",
   "metadata": {},
   "source": [
    "## transforming brandName"
   ]
  },
  {
   "cell_type": "code",
   "execution_count": 63,
   "id": "78661c64",
   "metadata": {},
   "outputs": [
    {
     "data": {
      "text/plain": [
       "0    Sisley\n",
       "Name: brandName, dtype: object"
      ]
     },
     "execution_count": 63,
     "metadata": {},
     "output_type": "execute_result"
    }
   ],
   "source": [
    "X_train['brandName'].mode()"
   ]
  },
  {
   "cell_type": "code",
   "execution_count": 68,
   "id": "af1c25e5",
   "metadata": {},
   "outputs": [],
   "source": [
    "# using LabelEncoder to transform the categorical variables in brandName\n",
    "from sklearn.preprocessing import OrdinalEncoder\n",
    "oebrand_name = OrdinalEncoder(handle_unknown='use_encoded_value',unknown_value=np.nan)\n"
   ]
  },
  {
   "cell_type": "code",
   "execution_count": 72,
   "id": "1b743679",
   "metadata": {},
   "outputs": [],
   "source": [
    "X_train['brandName'] = oebrand_name.fit_transform(X_train['brandName'].values.reshape(-1,1))"
   ]
  },
  {
   "cell_type": "code",
   "execution_count": 74,
   "id": "b92e3a00",
   "metadata": {},
   "outputs": [
    {
     "data": {
      "text/plain": [
       "(200,)"
      ]
     },
     "execution_count": 74,
     "metadata": {},
     "output_type": "execute_result"
    }
   ],
   "source": [
    "X_train['brandName'].shape"
   ]
  },
  {
   "cell_type": "code",
   "execution_count": 75,
   "id": "64e7374c",
   "metadata": {},
   "outputs": [
    {
     "data": {
      "image/png": "[encoded data removed]",
      "text/plain": [
       "<Figure size 1400x600 with 1 Axes>"
      ]
     },
     "metadata": {},
     "output_type": "display_data"
    }
   ],
   "source": [
    "brand_name_counts= X_train['brandName'].value_counts()\n",
    "# Plot the counts as a bar chart\n",
    "brand_name_counts.plot(kind='bar', figsize=(14, 6), color='skyblue')\n",
    "plt.title('Count of Categories')\n",
    "plt.xlabel('Category Name')\n",
    "plt.ylabel('Count')\n",
    "plt.xticks(rotation=45, ha='right')\n",
    "plt.tight_layout()\n",
    "plt.show()"
   ]
  },
  {
   "cell_type": "code",
   "execution_count": 76,
   "id": "50334472",
   "metadata": {},
   "outputs": [
    {
     "data": {
      "application/vnd.microsoft.datawrangler.viewer.v0+json": {
       "columns": [
        {
         "name": "index",
         "rawType": "int64",
         "type": "integer"
        },
        {
         "name": "name",
         "rawType": "object",
         "type": "string"
        },
        {
         "name": "brandName",
         "rawType": "float64",
         "type": "float"
        },
        {
         "name": "imageUrl",
         "rawType": "object",
         "type": "string"
        }
       ],
       "conversionMethod": "pd.DataFrame",
       "ref": "ceaae194-f7bc-469d-9ee7-cc384f7bea09",
       "rows": [
        [
         "132",
         "boucheron oud de carthage eau de parfum",
         "8.0",
         "https://static.prod.qogita.com/files/images/variants/SnT3gA8owcKzsy9eYNdcco.jpg"
        ],
        [
         "225",
         "afnan ornament pour homme eau de parfum men",
         "1.0",
         "https://static.prod.qogita.com/files/images/variants/VGaBrQJnv6YxZxJqz4hcrN.jpg"
        ],
        [
         "238",
         "redken frizz dismiss instant deflate haircare serum",
         "52.0",
         "https://static.prod.qogita.com/files/images/variants/bfMUJsYZiPJPRMT2zuULW8.jpg"
        ],
        [
         "119",
         "tom ford black orchid eau de parfum woman",
         "59.0",
         "https://static.prod.qogita.com/files/images/variants/dYJ2gxgfSCiH7aqRSJNRpE.jpg"
        ],
        [
         "136",
         "shiseido waso shot serum",
         "57.0",
         "https://static.prod.qogita.com/files/images/variants/DD6KoYobqAmmhQfxKNLJV7.jpg"
        ]
       ],
       "shape": {
        "columns": 3,
        "rows": 5
       }
      },
      "text/html": [
       "<div>\n",
       "<style scoped>\n",
       "    .dataframe tbody tr th:only-of-type {\n",
       "        vertical-align: middle;\n",
       "    }\n",
       "\n",
       "    .dataframe tbody tr th {\n",
       "        vertical-align: top;\n",
       "    }\n",
       "\n",
       "    .dataframe thead th {\n",
       "        text-align: right;\n",
       "    }\n",
       "</style>\n",
       "<table border=\"1\" class=\"dataframe\">\n",
       "  <thead>\n",
       "    <tr style=\"text-align: right;\">\n",
       "      <th></th>\n",
       "      <th>name</th>\n",
       "      <th>brandName</th>\n",
       "      <th>imageUrl</th>\n",
       "    </tr>\n",
       "  </thead>\n",
       "  <tbody>\n",
       "    <tr>\n",
       "      <th>132</th>\n",
       "      <td>boucheron oud de carthage eau de parfum</td>\n",
       "      <td>8.0</td>\n",
       "      <td>https://static.prod.qogita.com/files/images/va...</td>\n",
       "    </tr>\n",
       "    <tr>\n",
       "      <th>225</th>\n",
       "      <td>afnan ornament pour homme eau de parfum men</td>\n",
       "      <td>1.0</td>\n",
       "      <td>https://static.prod.qogita.com/files/images/va...</td>\n",
       "    </tr>\n",
       "    <tr>\n",
       "      <th>238</th>\n",
       "      <td>redken frizz dismiss instant deflate haircare ...</td>\n",
       "      <td>52.0</td>\n",
       "      <td>https://static.prod.qogita.com/files/images/va...</td>\n",
       "    </tr>\n",
       "    <tr>\n",
       "      <th>119</th>\n",
       "      <td>tom ford black orchid eau de parfum woman</td>\n",
       "      <td>59.0</td>\n",
       "      <td>https://static.prod.qogita.com/files/images/va...</td>\n",
       "    </tr>\n",
       "    <tr>\n",
       "      <th>136</th>\n",
       "      <td>shiseido waso shot serum</td>\n",
       "      <td>57.0</td>\n",
       "      <td>https://static.prod.qogita.com/files/images/va...</td>\n",
       "    </tr>\n",
       "  </tbody>\n",
       "</table>\n",
       "</div>"
      ],
      "text/plain": [
       "                                                  name  brandName  \\\n",
       "132            boucheron oud de carthage eau de parfum        8.0   \n",
       "225        afnan ornament pour homme eau de parfum men        1.0   \n",
       "238  redken frizz dismiss instant deflate haircare ...       52.0   \n",
       "119          tom ford black orchid eau de parfum woman       59.0   \n",
       "136                           shiseido waso shot serum       57.0   \n",
       "\n",
       "                                              imageUrl  \n",
       "132  https://static.prod.qogita.com/files/images/va...  \n",
       "225  https://static.prod.qogita.com/files/images/va...  \n",
       "238  https://static.prod.qogita.com/files/images/va...  \n",
       "119  https://static.prod.qogita.com/files/images/va...  \n",
       "136  https://static.prod.qogita.com/files/images/va...  "
      ]
     },
     "execution_count": 76,
     "metadata": {},
     "output_type": "execute_result"
    }
   ],
   "source": [
    "X_train.head()"
   ]
  },
  {
   "cell_type": "code",
   "execution_count": 77,
   "id": "762d1c85",
   "metadata": {},
   "outputs": [],
   "source": [
    "# create TF-IDF vectorizer\n",
    "from sklearn.feature_extraction.text import TfidfVectorizer\n",
    "tfidf_vectorizer = TfidfVectorizer(max_features=1000,ngram_range=(1,3))"
   ]
  },
  {
   "cell_type": "code",
   "execution_count": 78,
   "id": "d3f0c884",
   "metadata": {},
   "outputs": [],
   "source": [
    "X_train_tf_idf = tfidf_vectorizer.fit_transform(X_train['name'])"
   ]
  },
  {
   "cell_type": "code",
   "execution_count": 79,
   "id": "f13ec1f0",
   "metadata": {},
   "outputs": [],
   "source": [
    "brand_feature = X_train[\"brandName\"].values.reshape(-1, 1)"
   ]
  },
  {
   "cell_type": "code",
   "execution_count": 80,
   "id": "892527cc",
   "metadata": {},
   "outputs": [
    {
     "data": {
      "text/plain": [
       "array([[ 8.],\n",
       "       [ 1.],\n",
       "       [52.],\n",
       "       [59.],\n",
       "       [57.],\n",
       "       [14.],\n",
       "       [32.],\n",
       "       [58.],\n",
       "       [31.],\n",
       "       [50.],\n",
       "       [12.],\n",
       "       [25.],\n",
       "       [10.],\n",
       "       [28.],\n",
       "       [ 0.],\n",
       "       [27.],\n",
       "       [53.],\n",
       "       [ 4.],\n",
       "       [60.],\n",
       "       [30.],\n",
       "       [11.],\n",
       "       [58.],\n",
       "       [47.],\n",
       "       [12.],\n",
       "       [53.],\n",
       "       [ 1.],\n",
       "       [11.],\n",
       "       [11.],\n",
       "       [40.],\n",
       "       [15.],\n",
       "       [43.],\n",
       "       [31.],\n",
       "       [19.],\n",
       "       [58.],\n",
       "       [42.],\n",
       "       [67.],\n",
       "       [60.],\n",
       "       [57.],\n",
       "       [24.],\n",
       "       [48.],\n",
       "       [55.],\n",
       "       [11.],\n",
       "       [15.],\n",
       "       [22.],\n",
       "       [22.],\n",
       "       [50.],\n",
       "       [12.],\n",
       "       [42.],\n",
       "       [65.],\n",
       "       [24.],\n",
       "       [24.],\n",
       "       [29.],\n",
       "       [19.],\n",
       "       [53.],\n",
       "       [12.],\n",
       "       [58.],\n",
       "       [36.],\n",
       "       [16.],\n",
       "       [39.],\n",
       "       [21.],\n",
       "       [11.],\n",
       "       [57.],\n",
       "       [ 9.],\n",
       "       [15.],\n",
       "       [39.],\n",
       "       [22.],\n",
       "       [56.],\n",
       "       [55.],\n",
       "       [58.],\n",
       "       [44.],\n",
       "       [13.],\n",
       "       [55.],\n",
       "       [53.],\n",
       "       [43.],\n",
       "       [49.],\n",
       "       [ 3.],\n",
       "       [24.],\n",
       "       [39.],\n",
       "       [ 7.],\n",
       "       [54.],\n",
       "       [34.],\n",
       "       [36.],\n",
       "       [67.],\n",
       "       [50.],\n",
       "       [58.],\n",
       "       [11.],\n",
       "       [58.],\n",
       "       [62.],\n",
       "       [55.],\n",
       "       [57.],\n",
       "       [ 5.],\n",
       "       [29.],\n",
       "       [41.],\n",
       "       [61.],\n",
       "       [34.],\n",
       "       [17.],\n",
       "       [60.],\n",
       "       [58.],\n",
       "       [34.],\n",
       "       [ 7.],\n",
       "       [ 9.],\n",
       "       [24.],\n",
       "       [45.],\n",
       "       [57.],\n",
       "       [59.],\n",
       "       [11.],\n",
       "       [12.],\n",
       "       [65.],\n",
       "       [65.],\n",
       "       [40.],\n",
       "       [ 7.],\n",
       "       [22.],\n",
       "       [19.],\n",
       "       [24.],\n",
       "       [11.],\n",
       "       [ 3.],\n",
       "       [33.],\n",
       "       [28.],\n",
       "       [60.],\n",
       "       [22.],\n",
       "       [39.],\n",
       "       [ 6.],\n",
       "       [57.],\n",
       "       [53.],\n",
       "       [25.],\n",
       "       [32.],\n",
       "       [12.],\n",
       "       [59.],\n",
       "       [37.],\n",
       "       [25.],\n",
       "       [59.],\n",
       "       [59.],\n",
       "       [ 0.],\n",
       "       [22.],\n",
       "       [17.],\n",
       "       [20.],\n",
       "       [48.],\n",
       "       [ 2.],\n",
       "       [58.],\n",
       "       [39.],\n",
       "       [ 8.],\n",
       "       [48.],\n",
       "       [50.],\n",
       "       [32.],\n",
       "       [39.],\n",
       "       [35.],\n",
       "       [40.],\n",
       "       [50.],\n",
       "       [23.],\n",
       "       [58.],\n",
       "       [38.],\n",
       "       [ 9.],\n",
       "       [24.],\n",
       "       [ 3.],\n",
       "       [12.],\n",
       "       [56.],\n",
       "       [26.],\n",
       "       [11.],\n",
       "       [21.],\n",
       "       [ 9.],\n",
       "       [39.],\n",
       "       [50.],\n",
       "       [18.],\n",
       "       [15.],\n",
       "       [12.],\n",
       "       [39.],\n",
       "       [58.],\n",
       "       [55.],\n",
       "       [53.],\n",
       "       [11.],\n",
       "       [22.],\n",
       "       [58.],\n",
       "       [51.],\n",
       "       [33.],\n",
       "       [22.],\n",
       "       [11.],\n",
       "       [57.],\n",
       "       [ 3.],\n",
       "       [39.],\n",
       "       [24.],\n",
       "       [67.],\n",
       "       [36.],\n",
       "       [64.],\n",
       "       [46.],\n",
       "       [ 7.],\n",
       "       [12.],\n",
       "       [57.],\n",
       "       [63.],\n",
       "       [66.],\n",
       "       [50.],\n",
       "       [39.],\n",
       "       [58.],\n",
       "       [24.],\n",
       "       [40.],\n",
       "       [44.],\n",
       "       [ 6.],\n",
       "       [ 1.],\n",
       "       [34.],\n",
       "       [25.],\n",
       "       [58.]])"
      ]
     },
     "execution_count": 80,
     "metadata": {},
     "output_type": "execute_result"
    }
   ],
   "source": [
    "brand_feature"
   ]
  },
  {
   "cell_type": "code",
   "execution_count": 81,
   "id": "83d31289",
   "metadata": {},
   "outputs": [],
   "source": [
    "# Combine\n",
    "from scipy import sparse\n",
    "X_final = hstack([X_train_tf_idf, sparse.csr_matrix(brand_feature)])"
   ]
  },
  {
   "cell_type": "code",
   "execution_count": 92,
   "id": "776e66ed",
   "metadata": {},
   "outputs": [
    {
     "data": {
      "text/plain": [
       "(200, 1001)"
      ]
     },
     "execution_count": 92,
     "metadata": {},
     "output_type": "execute_result"
    }
   ],
   "source": [
    "X_final.shape"
   ]
  },
  {
   "cell_type": "code",
   "execution_count": null,
   "id": "3443aa44",
   "metadata": {},
   "outputs": [],
   "source": []
  },
  {
   "cell_type": "code",
   "execution_count": 83,
   "id": "9000314a",
   "metadata": {},
   "outputs": [
    {
     "data": {
      "text/plain": [
       "array([15, 15, 35, 15, 32, 16, 38, 15,  5, 20, 27, 14, 16, 15, 16, 16, 11,\n",
       "       16, 16, 15, 12, 15, 51,  1, 33, 15, 42, 43, 15, 16, 29, 15, 12, 23,\n",
       "       47, 15, 15, 24,  1, 15, 57, 25, 15, 33, 33, 45, 25, 56, 34, 16, 20,\n",
       "       16, 26, 37, 18, 23,  8, 13, 28, 15,  9,  6, 15, 16, 15, 33, 24, 58,\n",
       "        3, 46, 16,  2, 33, 20, 16, 15, 15, 15,  4, 53, 41, 54, 45, 20, 16,\n",
       "       21,  1, 25, 37,  6, 46, 16, 16, 16, 34, 15, 15,  7, 35,  0, 15, 24,\n",
       "       30, 45, 15, 24, 24, 34, 11, 15, 36, 11, 44, 15, 28, 15, 33, 15, 16,\n",
       "       33, 15, 25, 31, 33, 16,  5, 23, 15, 16, 16, 15, 15, 14, 35, 15, 15,\n",
       "       13, 52, 15, 10, 15, 15, 21, 24, 23, 18, 15, 45, 15, 39,  6, 15, 50,\n",
       "       15, 23,  1, 15, 40, 16, 15, 46, 45, 19, 16, 23,  5, 45, 37, 58, 49,\n",
       "       55, 50, 16, 51, 33, 42,  7, 15, 48, 16, 16,  8, 15,  5, 27, 46, 29,\n",
       "       30, 15, 10, 22, 45, 29, 15, 29, 49, 17, 11, 30, 16])"
      ]
     },
     "execution_count": 83,
     "metadata": {},
     "output_type": "execute_result"
    }
   ],
   "source": [
    "y_train_transformed"
   ]
  },
  {
   "cell_type": "markdown",
   "id": "9913e641",
   "metadata": {},
   "source": [
    "# Training without the images data"
   ]
  },
  {
   "cell_type": "code",
   "execution_count": 84,
   "id": "857d4101",
   "metadata": {},
   "outputs": [
    {
     "data": {
      "text/html": [
       "<style>#sk-container-id-2 {\n",
       "  /* Definition of color scheme common for light and dark mode */\n",
       "  --sklearn-color-text: #000;\n",
       "  --sklearn-color-text-muted: #666;\n",
       "  --sklearn-color-line: gray;\n",
       "  /* Definition of color scheme for unfitted estimators */\n",
       "  --sklearn-color-unfitted-level-0: #fff5e6;\n",
       "  --sklearn-color-unfitted-level-1: #f6e4d2;\n",
       "  --sklearn-color-unfitted-level-2: #ffe0b3;\n",
       "  --sklearn-color-unfitted-level-3: chocolate;\n",
       "  /* Definition of color scheme for fitted estimators */\n",
       "  --sklearn-color-fitted-level-0: #f0f8ff;\n",
       "  --sklearn-color-fitted-level-1: #d4ebff;\n",
       "  --sklearn-color-fitted-level-2: #b3dbfd;\n",
       "  --sklearn-color-fitted-level-3: cornflowerblue;\n",
       "\n",
       "  /* Specific color for light theme */\n",
       "  --sklearn-color-text-on-default-background: var(--sg-text-color, var(--theme-code-foreground, var(--jp-content-font-color1, black)));\n",
       "  --sklearn-color-background: var(--sg-background-color, var(--theme-background, var(--jp-layout-color0, white)));\n",
       "  --sklearn-color-border-box: var(--sg-text-color, var(--theme-code-foreground, var(--jp-content-font-color1, black)));\n",
       "  --sklearn-color-icon: #696969;\n",
       "\n",
       "  @media (prefers-color-scheme: dark) {\n",
       "    /* Redefinition of color scheme for dark theme */\n",
       "    --sklearn-color-text-on-default-background: var(--sg-text-color, var(--theme-code-foreground, var(--jp-content-font-color1, white)));\n",
       "    --sklearn-color-background: var(--sg-background-color, var(--theme-background, var(--jp-layout-color0, #111)));\n",
       "    --sklearn-color-border-box: var(--sg-text-color, var(--theme-code-foreground, var(--jp-content-font-color1, white)));\n",
       "    --sklearn-color-icon: #878787;\n",
       "  }\n",
       "}\n",
       "\n",
       "#sk-container-id-2 {\n",
       "  color: var(--sklearn-color-text);\n",
       "}\n",
       "\n",
       "#sk-container-id-2 pre {\n",
       "  padding: 0;\n",
       "}\n",
       "\n",
       "#sk-container-id-2 input.sk-hidden--visually {\n",
       "  border: 0;\n",
       "  clip: rect(1px 1px 1px 1px);\n",
       "  clip: rect(1px, 1px, 1px, 1px);\n",
       "  height: 1px;\n",
       "  margin: -1px;\n",
       "  overflow: hidden;\n",
       "  padding: 0;\n",
       "  position: absolute;\n",
       "  width: 1px;\n",
       "}\n",
       "\n",
       "#sk-container-id-2 div.sk-dashed-wrapped {\n",
       "  border: 1px dashed var(--sklearn-color-line);\n",
       "  margin: 0 0.4em 0.5em 0.4em;\n",
       "  box-sizing: border-box;\n",
       "  padding-bottom: 0.4em;\n",
       "  background-color: var(--sklearn-color-background);\n",
       "}\n",
       "\n",
       "#sk-container-id-2 div.sk-container {\n",
       "  /* jupyter's `normalize.less` sets `[hidden] { display: none; }`\n",
       "     but bootstrap.min.css set `[hidden] { display: none !important; }`\n",
       "     so we also need the `!important` here to be able to override the\n",
       "     default hidden behavior on the sphinx rendered scikit-learn.org.\n",
       "     See: https://github.com/scikit-learn/scikit-learn/issues/21755 */\n",
       "  display: inline-block !important;\n",
       "  position: relative;\n",
       "}\n",
       "\n",
       "#sk-container-id-2 div.sk-text-repr-fallback {\n",
       "  display: none;\n",
       "}\n",
       "\n",
       "div.sk-parallel-item,\n",
       "div.sk-serial,\n",
       "div.sk-item {\n",
       "  /* draw centered vertical line to link estimators */\n",
       "  background-image: linear-gradient(var(--sklearn-color-text-on-default-background), var(--sklearn-color-text-on-default-background));\n",
       "  background-size: 2px 100%;\n",
       "  background-repeat: no-repeat;\n",
       "  background-position: center center;\n",
       "}\n",
       "\n",
       "/* Parallel-specific style estimator block */\n",
       "\n",
       "#sk-container-id-2 div.sk-parallel-item::after {\n",
       "  content: \"\";\n",
       "  width: 100%;\n",
       "  border-bottom: 2px solid var(--sklearn-color-text-on-default-background);\n",
       "  flex-grow: 1;\n",
       "}\n",
       "\n",
       "#sk-container-id-2 div.sk-parallel {\n",
       "  display: flex;\n",
       "  align-items: stretch;\n",
       "  justify-content: center;\n",
       "  background-color: var(--sklearn-color-background);\n",
       "  position: relative;\n",
       "}\n",
       "\n",
       "#sk-container-id-2 div.sk-parallel-item {\n",
       "  display: flex;\n",
       "  flex-direction: column;\n",
       "}\n",
       "\n",
       "#sk-container-id-2 div.sk-parallel-item:first-child::after {\n",
       "  align-self: flex-end;\n",
       "  width: 50%;\n",
       "}\n",
       "\n",
       "#sk-container-id-2 div.sk-parallel-item:last-child::after {\n",
       "  align-self: flex-start;\n",
       "  width: 50%;\n",
       "}\n",
       "\n",
       "#sk-container-id-2 div.sk-parallel-item:only-child::after {\n",
       "  width: 0;\n",
       "}\n",
       "\n",
       "/* Serial-specific style estimator block */\n",
       "\n",
       "#sk-container-id-2 div.sk-serial {\n",
       "  display: flex;\n",
       "  flex-direction: column;\n",
       "  align-items: center;\n",
       "  background-color: var(--sklearn-color-background);\n",
       "  padding-right: 1em;\n",
       "  padding-left: 1em;\n",
       "}\n",
       "\n",
       "\n",
       "/* Toggleable style: style used for estimator/Pipeline/ColumnTransformer box that is\n",
       "clickable and can be expanded/collapsed.\n",
       "- Pipeline and ColumnTransformer use this feature and define the default style\n",
       "- Estimators will overwrite some part of the style using the `sk-estimator` class\n",
       "*/\n",
       "\n",
       "/* Pipeline and ColumnTransformer style (default) */\n",
       "\n",
       "#sk-container-id-2 div.sk-toggleable {\n",
       "  /* Default theme specific background. It is overwritten whether we have a\n",
       "  specific estimator or a Pipeline/ColumnTransformer */\n",
       "  background-color: var(--sklearn-color-background);\n",
       "}\n",
       "\n",
       "/* Toggleable label */\n",
       "#sk-container-id-2 label.sk-toggleable__label {\n",
       "  cursor: pointer;\n",
       "  display: flex;\n",
       "  width: 100%;\n",
       "  margin-bottom: 0;\n",
       "  padding: 0.5em;\n",
       "  box-sizing: border-box;\n",
       "  text-align: center;\n",
       "  align-items: start;\n",
       "  justify-content: space-between;\n",
       "  gap: 0.5em;\n",
       "}\n",
       "\n",
       "#sk-container-id-2 label.sk-toggleable__label .caption {\n",
       "  font-size: 0.6rem;\n",
       "  font-weight: lighter;\n",
       "  color: var(--sklearn-color-text-muted);\n",
       "}\n",
       "\n",
       "#sk-container-id-2 label.sk-toggleable__label-arrow:before {\n",
       "  /* Arrow on the left of the label */\n",
       "  content: \"▸\";\n",
       "  float: left;\n",
       "  margin-right: 0.25em;\n",
       "  color: var(--sklearn-color-icon);\n",
       "}\n",
       "\n",
       "#sk-container-id-2 label.sk-toggleable__label-arrow:hover:before {\n",
       "  color: var(--sklearn-color-text);\n",
       "}\n",
       "\n",
       "/* Toggleable content - dropdown */\n",
       "\n",
       "#sk-container-id-2 div.sk-toggleable__content {\n",
       "  max-height: 0;\n",
       "  max-width: 0;\n",
       "  overflow: hidden;\n",
       "  text-align: left;\n",
       "  /* unfitted */\n",
       "  background-color: var(--sklearn-color-unfitted-level-0);\n",
       "}\n",
       "\n",
       "#sk-container-id-2 div.sk-toggleable__content.fitted {\n",
       "  /* fitted */\n",
       "  background-color: var(--sklearn-color-fitted-level-0);\n",
       "}\n",
       "\n",
       "#sk-container-id-2 div.sk-toggleable__content pre {\n",
       "  margin: 0.2em;\n",
       "  border-radius: 0.25em;\n",
       "  color: var(--sklearn-color-text);\n",
       "  /* unfitted */\n",
       "  background-color: var(--sklearn-color-unfitted-level-0);\n",
       "}\n",
       "\n",
       "#sk-container-id-2 div.sk-toggleable__content.fitted pre {\n",
       "  /* unfitted */\n",
       "  background-color: var(--sklearn-color-fitted-level-0);\n",
       "}\n",
       "\n",
       "#sk-container-id-2 input.sk-toggleable__control:checked~div.sk-toggleable__content {\n",
       "  /* Expand drop-down */\n",
       "  max-height: 200px;\n",
       "  max-width: 100%;\n",
       "  overflow: auto;\n",
       "}\n",
       "\n",
       "#sk-container-id-2 input.sk-toggleable__control:checked~label.sk-toggleable__label-arrow:before {\n",
       "  content: \"▾\";\n",
       "}\n",
       "\n",
       "/* Pipeline/ColumnTransformer-specific style */\n",
       "\n",
       "#sk-container-id-2 div.sk-label input.sk-toggleable__control:checked~label.sk-toggleable__label {\n",
       "  color: var(--sklearn-color-text);\n",
       "  background-color: var(--sklearn-color-unfitted-level-2);\n",
       "}\n",
       "\n",
       "#sk-container-id-2 div.sk-label.fitted input.sk-toggleable__control:checked~label.sk-toggleable__label {\n",
       "  background-color: var(--sklearn-color-fitted-level-2);\n",
       "}\n",
       "\n",
       "/* Estimator-specific style */\n",
       "\n",
       "/* Colorize estimator box */\n",
       "#sk-container-id-2 div.sk-estimator input.sk-toggleable__control:checked~label.sk-toggleable__label {\n",
       "  /* unfitted */\n",
       "  background-color: var(--sklearn-color-unfitted-level-2);\n",
       "}\n",
       "\n",
       "#sk-container-id-2 div.sk-estimator.fitted input.sk-toggleable__control:checked~label.sk-toggleable__label {\n",
       "  /* fitted */\n",
       "  background-color: var(--sklearn-color-fitted-level-2);\n",
       "}\n",
       "\n",
       "#sk-container-id-2 div.sk-label label.sk-toggleable__label,\n",
       "#sk-container-id-2 div.sk-label label {\n",
       "  /* The background is the default theme color */\n",
       "  color: var(--sklearn-color-text-on-default-background);\n",
       "}\n",
       "\n",
       "/* On hover, darken the color of the background */\n",
       "#sk-container-id-2 div.sk-label:hover label.sk-toggleable__label {\n",
       "  color: var(--sklearn-color-text);\n",
       "  background-color: var(--sklearn-color-unfitted-level-2);\n",
       "}\n",
       "\n",
       "/* Label box, darken color on hover, fitted */\n",
       "#sk-container-id-2 div.sk-label.fitted:hover label.sk-toggleable__label.fitted {\n",
       "  color: var(--sklearn-color-text);\n",
       "  background-color: var(--sklearn-color-fitted-level-2);\n",
       "}\n",
       "\n",
       "/* Estimator label */\n",
       "\n",
       "#sk-container-id-2 div.sk-label label {\n",
       "  font-family: monospace;\n",
       "  font-weight: bold;\n",
       "  display: inline-block;\n",
       "  line-height: 1.2em;\n",
       "}\n",
       "\n",
       "#sk-container-id-2 div.sk-label-container {\n",
       "  text-align: center;\n",
       "}\n",
       "\n",
       "/* Estimator-specific */\n",
       "#sk-container-id-2 div.sk-estimator {\n",
       "  font-family: monospace;\n",
       "  border: 1px dotted var(--sklearn-color-border-box);\n",
       "  border-radius: 0.25em;\n",
       "  box-sizing: border-box;\n",
       "  margin-bottom: 0.5em;\n",
       "  /* unfitted */\n",
       "  background-color: var(--sklearn-color-unfitted-level-0);\n",
       "}\n",
       "\n",
       "#sk-container-id-2 div.sk-estimator.fitted {\n",
       "  /* fitted */\n",
       "  background-color: var(--sklearn-color-fitted-level-0);\n",
       "}\n",
       "\n",
       "/* on hover */\n",
       "#sk-container-id-2 div.sk-estimator:hover {\n",
       "  /* unfitted */\n",
       "  background-color: var(--sklearn-color-unfitted-level-2);\n",
       "}\n",
       "\n",
       "#sk-container-id-2 div.sk-estimator.fitted:hover {\n",
       "  /* fitted */\n",
       "  background-color: var(--sklearn-color-fitted-level-2);\n",
       "}\n",
       "\n",
       "/* Specification for estimator info (e.g. \"i\" and \"?\") */\n",
       "\n",
       "/* Common style for \"i\" and \"?\" */\n",
       "\n",
       ".sk-estimator-doc-link,\n",
       "a:link.sk-estimator-doc-link,\n",
       "a:visited.sk-estimator-doc-link {\n",
       "  float: right;\n",
       "  font-size: smaller;\n",
       "  line-height: 1em;\n",
       "  font-family: monospace;\n",
       "  background-color: var(--sklearn-color-background);\n",
       "  border-radius: 1em;\n",
       "  height: 1em;\n",
       "  width: 1em;\n",
       "  text-decoration: none !important;\n",
       "  margin-left: 0.5em;\n",
       "  text-align: center;\n",
       "  /* unfitted */\n",
       "  border: var(--sklearn-color-unfitted-level-1) 1pt solid;\n",
       "  color: var(--sklearn-color-unfitted-level-1);\n",
       "}\n",
       "\n",
       ".sk-estimator-doc-link.fitted,\n",
       "a:link.sk-estimator-doc-link.fitted,\n",
       "a:visited.sk-estimator-doc-link.fitted {\n",
       "  /* fitted */\n",
       "  border: var(--sklearn-color-fitted-level-1) 1pt solid;\n",
       "  color: var(--sklearn-color-fitted-level-1);\n",
       "}\n",
       "\n",
       "/* On hover */\n",
       "div.sk-estimator:hover .sk-estimator-doc-link:hover,\n",
       ".sk-estimator-doc-link:hover,\n",
       "div.sk-label-container:hover .sk-estimator-doc-link:hover,\n",
       ".sk-estimator-doc-link:hover {\n",
       "  /* unfitted */\n",
       "  background-color: var(--sklearn-color-unfitted-level-3);\n",
       "  color: var(--sklearn-color-background);\n",
       "  text-decoration: none;\n",
       "}\n",
       "\n",
       "div.sk-estimator.fitted:hover .sk-estimator-doc-link.fitted:hover,\n",
       ".sk-estimator-doc-link.fitted:hover,\n",
       "div.sk-label-container:hover .sk-estimator-doc-link.fitted:hover,\n",
       ".sk-estimator-doc-link.fitted:hover {\n",
       "  /* fitted */\n",
       "  background-color: var(--sklearn-color-fitted-level-3);\n",
       "  color: var(--sklearn-color-background);\n",
       "  text-decoration: none;\n",
       "}\n",
       "\n",
       "/* Span, style for the box shown on hovering the info icon */\n",
       ".sk-estimator-doc-link span {\n",
       "  display: none;\n",
       "  z-index: 9999;\n",
       "  position: relative;\n",
       "  font-weight: normal;\n",
       "  right: .2ex;\n",
       "  padding: .5ex;\n",
       "  margin: .5ex;\n",
       "  width: min-content;\n",
       "  min-width: 20ex;\n",
       "  max-width: 50ex;\n",
       "  color: var(--sklearn-color-text);\n",
       "  box-shadow: 2pt 2pt 4pt #999;\n",
       "  /* unfitted */\n",
       "  background: var(--sklearn-color-unfitted-level-0);\n",
       "  border: .5pt solid var(--sklearn-color-unfitted-level-3);\n",
       "}\n",
       "\n",
       ".sk-estimator-doc-link.fitted span {\n",
       "  /* fitted */\n",
       "  background: var(--sklearn-color-fitted-level-0);\n",
       "  border: var(--sklearn-color-fitted-level-3);\n",
       "}\n",
       "\n",
       ".sk-estimator-doc-link:hover span {\n",
       "  display: block;\n",
       "}\n",
       "\n",
       "/* \"?\"-specific style due to the `<a>` HTML tag */\n",
       "\n",
       "#sk-container-id-2 a.estimator_doc_link {\n",
       "  float: right;\n",
       "  font-size: 1rem;\n",
       "  line-height: 1em;\n",
       "  font-family: monospace;\n",
       "  background-color: var(--sklearn-color-background);\n",
       "  border-radius: 1rem;\n",
       "  height: 1rem;\n",
       "  width: 1rem;\n",
       "  text-decoration: none;\n",
       "  /* unfitted */\n",
       "  color: var(--sklearn-color-unfitted-level-1);\n",
       "  border: var(--sklearn-color-unfitted-level-1) 1pt solid;\n",
       "}\n",
       "\n",
       "#sk-container-id-2 a.estimator_doc_link.fitted {\n",
       "  /* fitted */\n",
       "  border: var(--sklearn-color-fitted-level-1) 1pt solid;\n",
       "  color: var(--sklearn-color-fitted-level-1);\n",
       "}\n",
       "\n",
       "/* On hover */\n",
       "#sk-container-id-2 a.estimator_doc_link:hover {\n",
       "  /* unfitted */\n",
       "  background-color: var(--sklearn-color-unfitted-level-3);\n",
       "  color: var(--sklearn-color-background);\n",
       "  text-decoration: none;\n",
       "}\n",
       "\n",
       "#sk-container-id-2 a.estimator_doc_link.fitted:hover {\n",
       "  /* fitted */\n",
       "  background-color: var(--sklearn-color-fitted-level-3);\n",
       "}\n",
       "</style><div id=\"sk-container-id-2\" class=\"sk-top-container\"><div class=\"sk-text-repr-fallback\"><pre>XGBClassifier(base_score=None, booster=None, callbacks=None,\n",
       "              colsample_bylevel=None, colsample_bynode=None,\n",
       "              colsample_bytree=None, device=None, early_stopping_rounds=None,\n",
       "              enable_categorical=False, eval_metric=&#x27;mlogloss&#x27;,\n",
       "              feature_types=None, feature_weights=None, gamma=None,\n",
       "              grow_policy=None, importance_type=None,\n",
       "              interaction_constraints=None, learning_rate=None, max_bin=None,\n",
       "              max_cat_threshold=None, max_cat_to_onehot=None,\n",
       "              max_delta_step=None, max_depth=None, max_leaves=None,\n",
       "              min_child_weight=None, missing=nan, monotone_constraints=None,\n",
       "              multi_strategy=None, n_estimators=None, n_jobs=None, num_class=59, ...)</pre><b>In a Jupyter environment, please rerun this cell to show the HTML representation or trust the notebook. <br />On GitHub, the HTML representation is unable to render, please try loading this page with nbviewer.org.</b></div><div class=\"sk-container\" hidden><div class=\"sk-item\"><div class=\"sk-estimator fitted sk-toggleable\"><input class=\"sk-toggleable__control sk-hidden--visually\" id=\"sk-estimator-id-2\" type=\"checkbox\" checked><label for=\"sk-estimator-id-2\" class=\"sk-toggleable__label fitted sk-toggleable__label-arrow\"><div><div>XGBClassifier</div></div><div><a class=\"sk-estimator-doc-link fitted\" rel=\"noreferrer\" target=\"_blank\" href=\"https://xgboost.readthedocs.io/en/release_3.0.0/python/python_api.html#xgboost.XGBClassifier\">?<span>Documentation for XGBClassifier</span></a><span class=\"sk-estimator-doc-link fitted\">i<span>Fitted</span></span></div></label><div class=\"sk-toggleable__content fitted\"><pre>XGBClassifier(base_score=None, booster=None, callbacks=None,\n",
       "              colsample_bylevel=None, colsample_bynode=None,\n",
       "              colsample_bytree=None, device=None, early_stopping_rounds=None,\n",
       "              enable_categorical=False, eval_metric=&#x27;mlogloss&#x27;,\n",
       "              feature_types=None, feature_weights=None, gamma=None,\n",
       "              grow_policy=None, importance_type=None,\n",
       "              interaction_constraints=None, learning_rate=None, max_bin=None,\n",
       "              max_cat_threshold=None, max_cat_to_onehot=None,\n",
       "              max_delta_step=None, max_depth=None, max_leaves=None,\n",
       "              min_child_weight=None, missing=nan, monotone_constraints=None,\n",
       "              multi_strategy=None, n_estimators=None, n_jobs=None, num_class=59, ...)</pre></div> </div></div></div></div>"
      ],
      "text/plain": [
       "XGBClassifier(base_score=None, booster=None, callbacks=None,\n",
       "              colsample_bylevel=None, colsample_bynode=None,\n",
       "              colsample_bytree=None, device=None, early_stopping_rounds=None,\n",
       "              enable_categorical=False, eval_metric='mlogloss',\n",
       "              feature_types=None, feature_weights=None, gamma=None,\n",
       "              grow_policy=None, importance_type=None,\n",
       "              interaction_constraints=None, learning_rate=None, max_bin=None,\n",
       "              max_cat_threshold=None, max_cat_to_onehot=None,\n",
       "              max_delta_step=None, max_depth=None, max_leaves=None,\n",
       "              min_child_weight=None, missing=nan, monotone_constraints=None,\n",
       "              multi_strategy=None, n_estimators=None, n_jobs=None, num_class=59, ...)"
      ]
     },
     "execution_count": 84,
     "metadata": {},
     "output_type": "execute_result"
    }
   ],
   "source": [
    "import xgboost as xgb\n",
    "\n",
    "model = xgb.XGBClassifier(\n",
    "    objective=\"multi:softprob\",\n",
    "    eval_metric=\"mlogloss\",\n",
    "    num_class=len(le.classes_)\n",
    ")\n",
    "\n",
    "model.fit(X_final, y_train_transformed)"
   ]
  },
  {
   "cell_type": "markdown",
   "id": "e0e4810a",
   "metadata": {},
   "source": [
    "# Testing on data"
   ]
  },
  {
   "cell_type": "code",
   "execution_count": 85,
   "id": "79b49b97",
   "metadata": {},
   "outputs": [],
   "source": [
    "X_test_transformed = tfidf_vectorizer.transform(X_test['name'])"
   ]
  },
  {
   "cell_type": "code",
   "execution_count": 87,
   "id": "0ba77231",
   "metadata": {},
   "outputs": [],
   "source": [
    "test_brands = oebrand_name.transform(X_test['brandName'].values.reshape(-1,1))"
   ]
  },
  {
   "cell_type": "code",
   "execution_count": 91,
   "id": "22079515",
   "metadata": {},
   "outputs": [
    {
     "data": {
      "text/plain": [
       "0    6\n",
       "dtype: int64"
      ]
     },
     "execution_count": 91,
     "metadata": {},
     "output_type": "execute_result"
    }
   ],
   "source": [
    "pd.DataFrame(test_brands).isna().sum()"
   ]
  },
  {
   "cell_type": "code",
   "execution_count": 93,
   "id": "6343d90c",
   "metadata": {},
   "outputs": [],
   "source": [
    "X_test_final = hstack([X_test_transformed, sparse.csr_matrix(test_brands)])"
   ]
  },
  {
   "cell_type": "code",
   "execution_count": 98,
   "id": "6c889599",
   "metadata": {},
   "outputs": [
    {
     "ename": "ValueError",
     "evalue": "y contains previously unseen labels: 'Makeup Remover'",
     "output_type": "error",
     "traceback": [
      "\u001b[31m---------------------------------------------------------------------------\u001b[39m",
      "\u001b[31mKeyError\u001b[39m                                  Traceback (most recent call last)",
      "\u001b[36mFile \u001b[39m\u001b[32m~/interview-tests/qogita/.venv/lib/python3.11/site-packages/sklearn/utils/_encode.py:235\u001b[39m, in \u001b[36m_encode\u001b[39m\u001b[34m(values, uniques, check_unknown)\u001b[39m\n\u001b[32m    234\u001b[39m \u001b[38;5;28;01mtry\u001b[39;00m:\n\u001b[32m--> \u001b[39m\u001b[32m235\u001b[39m     \u001b[38;5;28;01mreturn\u001b[39;00m \u001b[43m_map_to_integer\u001b[49m\u001b[43m(\u001b[49m\u001b[43mvalues\u001b[49m\u001b[43m,\u001b[49m\u001b[43m \u001b[49m\u001b[43muniques\u001b[49m\u001b[43m)\u001b[49m\n\u001b[32m    236\u001b[39m \u001b[38;5;28;01mexcept\u001b[39;00m \u001b[38;5;167;01mKeyError\u001b[39;00m \u001b[38;5;28;01mas\u001b[39;00m e:\n",
      "\u001b[36mFile \u001b[39m\u001b[32m~/interview-tests/qogita/.venv/lib/python3.11/site-packages/sklearn/utils/_encode.py:174\u001b[39m, in \u001b[36m_map_to_integer\u001b[39m\u001b[34m(values, uniques)\u001b[39m\n\u001b[32m    173\u001b[39m table = _nandict({val: i \u001b[38;5;28;01mfor\u001b[39;00m i, val \u001b[38;5;129;01min\u001b[39;00m \u001b[38;5;28menumerate\u001b[39m(uniques)})\n\u001b[32m--> \u001b[39m\u001b[32m174\u001b[39m \u001b[38;5;28;01mreturn\u001b[39;00m xp.asarray(\u001b[43m[\u001b[49m\u001b[43mtable\u001b[49m\u001b[43m[\u001b[49m\u001b[43mv\u001b[49m\u001b[43m]\u001b[49m\u001b[43m \u001b[49m\u001b[38;5;28;43;01mfor\u001b[39;49;00m\u001b[43m \u001b[49m\u001b[43mv\u001b[49m\u001b[43m \u001b[49m\u001b[38;5;129;43;01min\u001b[39;49;00m\u001b[43m \u001b[49m\u001b[43mvalues\u001b[49m\u001b[43m]\u001b[49m, device=device(values))\n",
      "\u001b[36mFile \u001b[39m\u001b[32m~/interview-tests/qogita/.venv/lib/python3.11/site-packages/sklearn/utils/_encode.py:174\u001b[39m, in \u001b[36m<listcomp>\u001b[39m\u001b[34m(.0)\u001b[39m\n\u001b[32m    173\u001b[39m table = _nandict({val: i \u001b[38;5;28;01mfor\u001b[39;00m i, val \u001b[38;5;129;01min\u001b[39;00m \u001b[38;5;28menumerate\u001b[39m(uniques)})\n\u001b[32m--> \u001b[39m\u001b[32m174\u001b[39m \u001b[38;5;28;01mreturn\u001b[39;00m xp.asarray([\u001b[43mtable\u001b[49m\u001b[43m[\u001b[49m\u001b[43mv\u001b[49m\u001b[43m]\u001b[49m \u001b[38;5;28;01mfor\u001b[39;00m v \u001b[38;5;129;01min\u001b[39;00m values], device=device(values))\n",
      "\u001b[36mFile \u001b[39m\u001b[32m~/interview-tests/qogita/.venv/lib/python3.11/site-packages/sklearn/utils/_encode.py:167\u001b[39m, in \u001b[36m_nandict.__missing__\u001b[39m\u001b[34m(self, key)\u001b[39m\n\u001b[32m    166\u001b[39m     \u001b[38;5;28;01mreturn\u001b[39;00m \u001b[38;5;28mself\u001b[39m.nan_value\n\u001b[32m--> \u001b[39m\u001b[32m167\u001b[39m \u001b[38;5;28;01mraise\u001b[39;00m \u001b[38;5;167;01mKeyError\u001b[39;00m(key)\n",
      "\u001b[31mKeyError\u001b[39m: 'Makeup Remover'",
      "\nDuring handling of the above exception, another exception occurred:\n",
      "\u001b[31mValueError\u001b[39m                                Traceback (most recent call last)",
      "\u001b[36mCell\u001b[39m\u001b[36m \u001b[39m\u001b[32mIn[98]\u001b[39m\u001b[32m, line 1\u001b[39m\n\u001b[32m----> \u001b[39m\u001b[32m1\u001b[39m y_test_transformed = \u001b[43mle\u001b[49m\u001b[43m.\u001b[49m\u001b[43mtransform\u001b[49m\u001b[43m(\u001b[49m\u001b[43my_test\u001b[49m\u001b[43m)\u001b[49m\n",
      "\u001b[36mFile \u001b[39m\u001b[32m~/interview-tests/qogita/.venv/lib/python3.11/site-packages/sklearn/preprocessing/_label.py:134\u001b[39m, in \u001b[36mLabelEncoder.transform\u001b[39m\u001b[34m(self, y)\u001b[39m\n\u001b[32m    131\u001b[39m \u001b[38;5;28;01mif\u001b[39;00m _num_samples(y) == \u001b[32m0\u001b[39m:\n\u001b[32m    132\u001b[39m     \u001b[38;5;28;01mreturn\u001b[39;00m xp.asarray([])\n\u001b[32m--> \u001b[39m\u001b[32m134\u001b[39m \u001b[38;5;28;01mreturn\u001b[39;00m \u001b[43m_encode\u001b[49m\u001b[43m(\u001b[49m\u001b[43my\u001b[49m\u001b[43m,\u001b[49m\u001b[43m \u001b[49m\u001b[43muniques\u001b[49m\u001b[43m=\u001b[49m\u001b[38;5;28;43mself\u001b[39;49m\u001b[43m.\u001b[49m\u001b[43mclasses_\u001b[49m\u001b[43m)\u001b[49m\n",
      "\u001b[36mFile \u001b[39m\u001b[32m~/interview-tests/qogita/.venv/lib/python3.11/site-packages/sklearn/utils/_encode.py:237\u001b[39m, in \u001b[36m_encode\u001b[39m\u001b[34m(values, uniques, check_unknown)\u001b[39m\n\u001b[32m    235\u001b[39m         \u001b[38;5;28;01mreturn\u001b[39;00m _map_to_integer(values, uniques)\n\u001b[32m    236\u001b[39m     \u001b[38;5;28;01mexcept\u001b[39;00m \u001b[38;5;167;01mKeyError\u001b[39;00m \u001b[38;5;28;01mas\u001b[39;00m e:\n\u001b[32m--> \u001b[39m\u001b[32m237\u001b[39m         \u001b[38;5;28;01mraise\u001b[39;00m \u001b[38;5;167;01mValueError\u001b[39;00m(\u001b[33mf\u001b[39m\u001b[33m\"\u001b[39m\u001b[33my contains previously unseen labels: \u001b[39m\u001b[38;5;132;01m{\u001b[39;00m\u001b[38;5;28mstr\u001b[39m(e)\u001b[38;5;132;01m}\u001b[39;00m\u001b[33m\"\u001b[39m)\n\u001b[32m    238\u001b[39m \u001b[38;5;28;01melse\u001b[39;00m:\n\u001b[32m    239\u001b[39m     \u001b[38;5;28;01mif\u001b[39;00m check_unknown:\n",
      "\u001b[31mValueError\u001b[39m: y contains previously unseen labels: 'Makeup Remover'"
     ]
    }
   ],
   "source": [
    "y_test_transformed = le.transform(y_test)"
   ]
  },
  {
   "cell_type": "code",
   "execution_count": 96,
   "id": "0449eb71",
   "metadata": {},
   "outputs": [
    {
     "data": {
      "text/plain": [
       "0.0"
      ]
     },
     "execution_count": 96,
     "metadata": {},
     "output_type": "execute_result"
    }
   ],
   "source": [
    "from sklearn.metrics import accuracy_score\n",
    "accuracy_score(y_test,model.predict(X_test_final))"
   ]
  }
 ],
 "metadata": {
  "kernelspec": {
   "display_name": ".venv",
   "language": "python",
   "name": "python3"
  },
  "language_info": {
   "codemirror_mode": {
    "name": "ipython",
    "version": 3
   },
   "file_extension": ".py",
   "mimetype": "text/x-python",
   "name": "python",
   "nbconvert_exporter": "python",
   "pygments_lexer": "ipython3",
   "version": "3.11.11"
  }
 },
 "nbformat": 4,
 "nbformat_minor": 5
}
